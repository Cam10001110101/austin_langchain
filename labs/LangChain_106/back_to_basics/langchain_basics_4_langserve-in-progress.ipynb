{
 "cells": [
  {
   "cell_type": "markdown",
   "metadata": {},
   "source": [
    "<a href=\"https://colab.research.google.com/github/colinmcnamara/austin_langchain/blob/main/labs/LangChain_106/back_to_basics/langchain_basics_4_langserve-in-progress.ipynb\" target=\"_parent\"><img src=\"https://colab.research.google.com/assets/colab-badge.svg\" alt=\"Open In Colab\"/></a>"
   ]
  },
  {
   "cell_type": "markdown",
   "metadata": {},
   "source": [
    "# serving with LangServe\n",
    "\n",
    "Let's bundle up the application we just wrote, and serve it via API.\n",
    "Note, this code will work if:\n",
    "\n",
    "1. you run it on your local machine\n",
    "2. you have the `langserve` package installed on top of the other requirements\n",
    "3. you have a remote instance that allows you to get shell access\n",
    "\n"
   ]
  },
  {
   "cell_type": "code",
   "execution_count": 8,
   "metadata": {},
   "outputs": [
    {
     "name": "stdout",
     "output_type": "stream",
     "text": [
      "Requirement already satisfied: langserve[all] in /Users/colinmcnamara/Code/austin_langchain/.venv/lib/python3.12/site-packages (0.0.51)\n",
      "Requirement already satisfied: fastapi<1,>=0.90.1 in /Users/colinmcnamara/Code/austin_langchain/.venv/lib/python3.12/site-packages (from langserve[all]) (0.110.0)\n",
      "Requirement already satisfied: httpx>=0.23.0 in /Users/colinmcnamara/Code/austin_langchain/.venv/lib/python3.12/site-packages (from langserve[all]) (0.27.0)\n",
      "Requirement already satisfied: httpx-sse>=0.3.1 in /Users/colinmcnamara/Code/austin_langchain/.venv/lib/python3.12/site-packages (from langserve[all]) (0.4.0)\n",
      "Requirement already satisfied: langchain>=0.0.333 in /Users/colinmcnamara/Code/austin_langchain/.venv/lib/python3.12/site-packages (from langserve[all]) (0.1.13)\n",
      "Requirement already satisfied: orjson>=2 in /Users/colinmcnamara/Code/austin_langchain/.venv/lib/python3.12/site-packages (from langserve[all]) (3.9.15)\n",
      "Requirement already satisfied: pydantic>=1 in /Users/colinmcnamara/Code/austin_langchain/.venv/lib/python3.12/site-packages (from langserve[all]) (2.6.4)\n",
      "Requirement already satisfied: sse-starlette<2.0.0,>=1.3.0 in /Users/colinmcnamara/Code/austin_langchain/.venv/lib/python3.12/site-packages (from langserve[all]) (1.8.2)\n",
      "Requirement already satisfied: starlette<0.37.0,>=0.36.3 in /Users/colinmcnamara/Code/austin_langchain/.venv/lib/python3.12/site-packages (from fastapi<1,>=0.90.1->langserve[all]) (0.36.3)\n",
      "Requirement already satisfied: typing-extensions>=4.8.0 in /Users/colinmcnamara/Code/austin_langchain/.venv/lib/python3.12/site-packages (from fastapi<1,>=0.90.1->langserve[all]) (4.10.0)\n",
      "Requirement already satisfied: anyio in /Users/colinmcnamara/Code/austin_langchain/.venv/lib/python3.12/site-packages (from httpx>=0.23.0->langserve[all]) (4.3.0)\n",
      "Requirement already satisfied: certifi in /Users/colinmcnamara/Code/austin_langchain/.venv/lib/python3.12/site-packages (from httpx>=0.23.0->langserve[all]) (2024.2.2)\n",
      "Requirement already satisfied: httpcore==1.* in /Users/colinmcnamara/Code/austin_langchain/.venv/lib/python3.12/site-packages (from httpx>=0.23.0->langserve[all]) (1.0.4)\n",
      "Requirement already satisfied: idna in /Users/colinmcnamara/Code/austin_langchain/.venv/lib/python3.12/site-packages (from httpx>=0.23.0->langserve[all]) (3.6)\n",
      "Requirement already satisfied: sniffio in /Users/colinmcnamara/Code/austin_langchain/.venv/lib/python3.12/site-packages (from httpx>=0.23.0->langserve[all]) (1.3.1)\n",
      "Requirement already satisfied: h11<0.15,>=0.13 in /Users/colinmcnamara/Code/austin_langchain/.venv/lib/python3.12/site-packages (from httpcore==1.*->httpx>=0.23.0->langserve[all]) (0.14.0)\n",
      "Requirement already satisfied: PyYAML>=5.3 in /Users/colinmcnamara/Code/austin_langchain/.venv/lib/python3.12/site-packages (from langchain>=0.0.333->langserve[all]) (6.0.1)\n",
      "Requirement already satisfied: SQLAlchemy<3,>=1.4 in /Users/colinmcnamara/Code/austin_langchain/.venv/lib/python3.12/site-packages (from langchain>=0.0.333->langserve[all]) (2.0.28)\n",
      "Requirement already satisfied: aiohttp<4.0.0,>=3.8.3 in /Users/colinmcnamara/Code/austin_langchain/.venv/lib/python3.12/site-packages (from langchain>=0.0.333->langserve[all]) (3.9.3)\n",
      "Requirement already satisfied: dataclasses-json<0.7,>=0.5.7 in /Users/colinmcnamara/Code/austin_langchain/.venv/lib/python3.12/site-packages (from langchain>=0.0.333->langserve[all]) (0.6.4)\n",
      "Requirement already satisfied: jsonpatch<2.0,>=1.33 in /Users/colinmcnamara/Code/austin_langchain/.venv/lib/python3.12/site-packages (from langchain>=0.0.333->langserve[all]) (1.33)\n",
      "Requirement already satisfied: langchain-community<0.1,>=0.0.29 in /Users/colinmcnamara/Code/austin_langchain/.venv/lib/python3.12/site-packages (from langchain>=0.0.333->langserve[all]) (0.0.29)\n",
      "Requirement already satisfied: langchain-core<0.2.0,>=0.1.33 in /Users/colinmcnamara/Code/austin_langchain/.venv/lib/python3.12/site-packages (from langchain>=0.0.333->langserve[all]) (0.1.33)\n",
      "Requirement already satisfied: langchain-text-splitters<0.1,>=0.0.1 in /Users/colinmcnamara/Code/austin_langchain/.venv/lib/python3.12/site-packages (from langchain>=0.0.333->langserve[all]) (0.0.1)\n",
      "Requirement already satisfied: langsmith<0.2.0,>=0.1.17 in /Users/colinmcnamara/Code/austin_langchain/.venv/lib/python3.12/site-packages (from langchain>=0.0.333->langserve[all]) (0.1.29)\n",
      "Requirement already satisfied: numpy<2,>=1 in /Users/colinmcnamara/Code/austin_langchain/.venv/lib/python3.12/site-packages (from langchain>=0.0.333->langserve[all]) (1.26.4)\n",
      "Requirement already satisfied: requests<3,>=2 in /Users/colinmcnamara/Code/austin_langchain/.venv/lib/python3.12/site-packages (from langchain>=0.0.333->langserve[all]) (2.31.0)\n",
      "Requirement already satisfied: tenacity<9.0.0,>=8.1.0 in /Users/colinmcnamara/Code/austin_langchain/.venv/lib/python3.12/site-packages (from langchain>=0.0.333->langserve[all]) (8.2.3)\n",
      "Requirement already satisfied: annotated-types>=0.4.0 in /Users/colinmcnamara/Code/austin_langchain/.venv/lib/python3.12/site-packages (from pydantic>=1->langserve[all]) (0.6.0)\n",
      "Requirement already satisfied: pydantic-core==2.16.3 in /Users/colinmcnamara/Code/austin_langchain/.venv/lib/python3.12/site-packages (from pydantic>=1->langserve[all]) (2.16.3)\n",
      "Requirement already satisfied: uvicorn in /Users/colinmcnamara/Code/austin_langchain/.venv/lib/python3.12/site-packages (from sse-starlette<2.0.0,>=1.3.0->langserve[all]) (0.23.2)\n",
      "Requirement already satisfied: aiosignal>=1.1.2 in /Users/colinmcnamara/Code/austin_langchain/.venv/lib/python3.12/site-packages (from aiohttp<4.0.0,>=3.8.3->langchain>=0.0.333->langserve[all]) (1.3.1)\n",
      "Requirement already satisfied: attrs>=17.3.0 in /Users/colinmcnamara/Code/austin_langchain/.venv/lib/python3.12/site-packages (from aiohttp<4.0.0,>=3.8.3->langchain>=0.0.333->langserve[all]) (23.2.0)\n",
      "Requirement already satisfied: frozenlist>=1.1.1 in /Users/colinmcnamara/Code/austin_langchain/.venv/lib/python3.12/site-packages (from aiohttp<4.0.0,>=3.8.3->langchain>=0.0.333->langserve[all]) (1.4.1)\n",
      "Requirement already satisfied: multidict<7.0,>=4.5 in /Users/colinmcnamara/Code/austin_langchain/.venv/lib/python3.12/site-packages (from aiohttp<4.0.0,>=3.8.3->langchain>=0.0.333->langserve[all]) (6.0.5)\n",
      "Requirement already satisfied: yarl<2.0,>=1.0 in /Users/colinmcnamara/Code/austin_langchain/.venv/lib/python3.12/site-packages (from aiohttp<4.0.0,>=3.8.3->langchain>=0.0.333->langserve[all]) (1.9.4)\n",
      "Requirement already satisfied: marshmallow<4.0.0,>=3.18.0 in /Users/colinmcnamara/Code/austin_langchain/.venv/lib/python3.12/site-packages (from dataclasses-json<0.7,>=0.5.7->langchain>=0.0.333->langserve[all]) (3.21.1)\n",
      "Requirement already satisfied: typing-inspect<1,>=0.4.0 in /Users/colinmcnamara/Code/austin_langchain/.venv/lib/python3.12/site-packages (from dataclasses-json<0.7,>=0.5.7->langchain>=0.0.333->langserve[all]) (0.9.0)\n",
      "Requirement already satisfied: jsonpointer>=1.9 in /Users/colinmcnamara/Code/austin_langchain/.venv/lib/python3.12/site-packages (from jsonpatch<2.0,>=1.33->langchain>=0.0.333->langserve[all]) (2.4)\n",
      "Requirement already satisfied: packaging<24.0,>=23.2 in /Users/colinmcnamara/Code/austin_langchain/.venv/lib/python3.12/site-packages (from langchain-core<0.2.0,>=0.1.33->langchain>=0.0.333->langserve[all]) (23.2)\n",
      "Requirement already satisfied: charset-normalizer<4,>=2 in /Users/colinmcnamara/Code/austin_langchain/.venv/lib/python3.12/site-packages (from requests<3,>=2->langchain>=0.0.333->langserve[all]) (3.3.2)\n",
      "Requirement already satisfied: urllib3<3,>=1.21.1 in /Users/colinmcnamara/Code/austin_langchain/.venv/lib/python3.12/site-packages (from requests<3,>=2->langchain>=0.0.333->langserve[all]) (2.2.1)\n",
      "Requirement already satisfied: click>=7.0 in /Users/colinmcnamara/Code/austin_langchain/.venv/lib/python3.12/site-packages (from uvicorn->sse-starlette<2.0.0,>=1.3.0->langserve[all]) (8.1.7)\n",
      "Requirement already satisfied: mypy-extensions>=0.3.0 in /Users/colinmcnamara/Code/austin_langchain/.venv/lib/python3.12/site-packages (from typing-inspect<1,>=0.4.0->dataclasses-json<0.7,>=0.5.7->langchain>=0.0.333->langserve[all]) (1.0.0)\n",
      "Note: you may need to restart the kernel to use updated packages.\n"
     ]
    }
   ],
   "source": [
    "# install LangServe with:\n",
    "%pip install \"langserve[all]\""
   ]
  },
  {
   "cell_type": "code",
   "execution_count": 9,
   "metadata": {},
   "outputs": [
    {
     "name": "stdout",
     "output_type": "stream",
     "text": [
      "Requirement already satisfied: fastapi in /Users/colinmcnamara/Code/austin_langchain/.venv/lib/python3.12/site-packages (0.110.0)\n",
      "Requirement already satisfied: uvicorn in /Users/colinmcnamara/Code/austin_langchain/.venv/lib/python3.12/site-packages (0.23.2)\n",
      "Requirement already satisfied: pydantic!=1.8,!=1.8.1,!=2.0.0,!=2.0.1,!=2.1.0,<3.0.0,>=1.7.4 in /Users/colinmcnamara/Code/austin_langchain/.venv/lib/python3.12/site-packages (from fastapi) (2.6.4)\n",
      "Requirement already satisfied: starlette<0.37.0,>=0.36.3 in /Users/colinmcnamara/Code/austin_langchain/.venv/lib/python3.12/site-packages (from fastapi) (0.36.3)\n",
      "Requirement already satisfied: typing-extensions>=4.8.0 in /Users/colinmcnamara/Code/austin_langchain/.venv/lib/python3.12/site-packages (from fastapi) (4.10.0)\n",
      "Requirement already satisfied: click>=7.0 in /Users/colinmcnamara/Code/austin_langchain/.venv/lib/python3.12/site-packages (from uvicorn) (8.1.7)\n",
      "Requirement already satisfied: h11>=0.8 in /Users/colinmcnamara/Code/austin_langchain/.venv/lib/python3.12/site-packages (from uvicorn) (0.14.0)\n",
      "Requirement already satisfied: annotated-types>=0.4.0 in /Users/colinmcnamara/Code/austin_langchain/.venv/lib/python3.12/site-packages (from pydantic!=1.8,!=1.8.1,!=2.0.0,!=2.0.1,!=2.1.0,<3.0.0,>=1.7.4->fastapi) (0.6.0)\n",
      "Requirement already satisfied: pydantic-core==2.16.3 in /Users/colinmcnamara/Code/austin_langchain/.venv/lib/python3.12/site-packages (from pydantic!=1.8,!=1.8.1,!=2.0.0,!=2.0.1,!=2.1.0,<3.0.0,>=1.7.4->fastapi) (2.16.3)\n",
      "Requirement already satisfied: anyio<5,>=3.4.0 in /Users/colinmcnamara/Code/austin_langchain/.venv/lib/python3.12/site-packages (from starlette<0.37.0,>=0.36.3->fastapi) (4.3.0)\n",
      "Requirement already satisfied: idna>=2.8 in /Users/colinmcnamara/Code/austin_langchain/.venv/lib/python3.12/site-packages (from anyio<5,>=3.4.0->starlette<0.37.0,>=0.36.3->fastapi) (3.6)\n",
      "Requirement already satisfied: sniffio>=1.1 in /Users/colinmcnamara/Code/austin_langchain/.venv/lib/python3.12/site-packages (from anyio<5,>=3.4.0->starlette<0.37.0,>=0.36.3->fastapi) (1.3.1)\n",
      "Note: you may need to restart the kernel to use updated packages.\n"
     ]
    }
   ],
   "source": [
    "%pip install fastapi uvicorn"
   ]
  },
  {
   "cell_type": "markdown",
   "metadata": {},
   "source": [
    "We need to bundle up the application we just wrote inside of a file named \"serve.py\" and then we can serve it via API.\n",
    "\n",
    "This file contains three things\n",
    "1. our code that we wrote in the previous step\n",
    "2. Our FastAPI appliction\n",
    "3. A route definition from which we serve the chain"
   ]
  },
  {
   "cell_type": "code",
   "execution_count": 10,
   "metadata": {},
   "outputs": [
    {
     "ename": "NameError",
     "evalue": "name 'FastAPI' is not defined",
     "output_type": "error",
     "traceback": [
      "\u001b[0;31m---------------------------------------------------------------------------\u001b[0m",
      "\u001b[0;31mNameError\u001b[0m                                 Traceback (most recent call last)",
      "Cell \u001b[0;32mIn[10], line 46\u001b[0m\n\u001b[1;32m     43\u001b[0m agent_executor \u001b[38;5;241m=\u001b[39m AgentExecutor(agent\u001b[38;5;241m=\u001b[39magent, tools\u001b[38;5;241m=\u001b[39mtools, verbose\u001b[38;5;241m=\u001b[39m\u001b[38;5;28;01mTrue\u001b[39;00m)\n\u001b[1;32m     45\u001b[0m \u001b[38;5;66;03m# App definition \u001b[39;00m\n\u001b[0;32m---> 46\u001b[0m app \u001b[38;5;241m=\u001b[39m \u001b[43mFastAPI\u001b[49m(\n\u001b[1;32m     47\u001b[0m     title\u001b[38;5;241m=\u001b[39m\u001b[38;5;124m\"\u001b[39m\u001b[38;5;124mLangChain Server\u001b[39m\u001b[38;5;124m\"\u001b[39m,\n\u001b[1;32m     48\u001b[0m     version\u001b[38;5;241m=\u001b[39m\u001b[38;5;124m\"\u001b[39m\u001b[38;5;124m1.0\u001b[39m\u001b[38;5;124m\"\u001b[39m,\n\u001b[1;32m     49\u001b[0m     description\u001b[38;5;241m=\u001b[39m\u001b[38;5;124m\"\u001b[39m\u001b[38;5;124mA simple API for our LangChain Quickstart\u001b[39m\u001b[38;5;124m\"\u001b[39m,\n\u001b[1;32m     50\u001b[0m )\n\u001b[1;32m     52\u001b[0m \u001b[38;5;66;03m# Add our chain routes\u001b[39;00m\n\u001b[1;32m     53\u001b[0m \u001b[38;5;28;01mclass\u001b[39;00m \u001b[38;5;21;01mInput\u001b[39;00m(BaseModel):\n",
      "\u001b[0;31mNameError\u001b[0m: name 'FastAPI' is not defined"
     ]
    }
   ],
   "source": [
    "#!/usr/bin/env python\n",
    "\n",
    "from typing import List\n",
    "from fastapi import FastAPI\n",
    "from langchain_core.prompts import ChatPromptTemplate\n",
    "from langchain_openai import ChatOpenAI\n",
    "from langchain_community.document_loaders import WebBaseLoader\n",
    "from langchain_openai import OpenAIEmbeddings\n",
    "from langchain_community.vectorstores import FAISS\n",
    "from langchain_text_splitters import RecursiveCharacterTextSplitter\n",
    "from langchain.tools.retriever import create_retriever_tool\n",
    "from langchain.tools import DuckDuckGoSearchRun\n",
    "from langchain import hub\n",
    "from langchain.agents import create_openai_functions_agent\n",
    "from langchain.agents import AgentExecutor\n",
    "from langchain.pydantic_v1 import BaseModel, Field\n",
    "from langchain_core.messages import BaseMessage\n",
    "from langserve import add_routes\n",
    "\n",
    "# Load Retriever\n",
    "loader = WebBaseLoader(\"https://www.austinchronicle.com/events\")\n",
    "docs = loader.load()\n",
    "text_splitter = RecursiveCharacterTextSplitter()\n",
    "documents = text_splitter.split_documents(docs)\n",
    "embeddings = OpenAIEmbeddings()\n",
    "vector = FAISS.from_documents(documents, embeddings)\n",
    "retriever = vector.as_retriever()\n",
    "\n",
    "# Create our tools\n",
    "retriever_tool = create_retriever_tool(\n",
    "    retriever,\n",
    "    \"austin_events_search\",\n",
    "    \"Search for information about events in Austin. For any questions about austin events, you may use this tool\",\n",
    ")\n",
    "\n",
    "search = DuckDuckGoSearchRun()\n",
    "tools = [retriever_tool, search]\n",
    "\n",
    "\n",
    "# Create our agent\n",
    "prompt = hub.pull(\"hwchase17/openai-functions-agent\")\n",
    "llm = ChatOpenAI(model=\"gpt-3.5-turbo\", temperature=0)\n",
    "agent = create_openai_functions_agent(llm, tools, prompt)\n",
    "agent_executor = AgentExecutor(agent=agent, tools=tools, verbose=True)\n",
    "\n",
    "# App definition\n",
    "app = FastAPI(\n",
    "    title=\"LangChain Server\",\n",
    "    version=\"1.0\",\n",
    "    description=\"A simple API for our LangChain Quickstart\",\n",
    ")\n",
    "\n",
    "# Add our chain routes\n",
    "class Input(BaseModel):\n",
    "    input: str\n",
    "    chat_history: List[BaseMessage] = Field(\n",
    "    ...,\n",
    "    extra={\"widget\": {\"type\": \"chat\", \"input\": \"location\"}},\n",
    "    )\n",
    "\n",
    "class Output(BaseModel):\n",
    "    output: str\n",
    "\n",
    "add_routes(\n",
    "    app,\n",
    "    agent_executor.with_types(input_type=Input, output_type=Output),\n",
    "    path=\"/agent\",\n",
    ")\n",
    "\n",
    "if __name__ == \"__main__\":\n",
    "    import uvicorn\n",
    "\n",
    "    uvicorn.run(app, host=\"localhost\", port=8000)"
   ]
  },
  {
   "cell_type": "markdown",
   "metadata": {},
   "source": [
    "Let's execute the file and see what happens"
   ]
  },
  {
   "cell_type": "code",
   "execution_count": 11,
   "metadata": {},
   "outputs": [
    {
     "ename": "SyntaxError",
     "evalue": "invalid syntax (2937407649.py, line 1)",
     "output_type": "error",
     "traceback": [
      "\u001b[0;36m  Cell \u001b[0;32mIn[11], line 1\u001b[0;36m\u001b[0m\n\u001b[0;31m    python langchain_basics_5_langserve.py\u001b[0m\n\u001b[0m           ^\u001b[0m\n\u001b[0;31mSyntaxError\u001b[0m\u001b[0;31m:\u001b[0m invalid syntax\n"
     ]
    }
   ],
   "source": [
    "python langchain_basics_5_langserve.py"
   ]
  },
  {
   "cell_type": "markdown",
   "metadata": {},
   "source": [
    "You should see something like this:\n",
    "\n",
    "'''\n",
    "(.venv) (base) Colins-MacBook-Pro:back_to_basics colinmcnamara$ python langchain_basics_5_langserve.py \n",
    "INFO:     Started server process [56341]\n",
    "INFO:     Waiting for application startup.\n",
    "\n",
    " __          ___      .__   __.   _______      _______. _______ .______     ____    ____  _______\n",
    "|  |        /   \\     |  \\ |  |  /  _____|    /       ||   ____||   _  \\    \\   \\  /   / |   ____|\n",
    "|  |       /  ^  \\    |   \\|  | |  |  __     |   (----`|  |__   |  |_)  |    \\   \\/   /  |  |__\n",
    "|  |      /  /_\\  \\   |  . `  | |  | |_ |     \\   \\    |   __|  |      /      \\      /   |   __|\n",
    "|  `----./  _____  \\  |  |\\   | |  |__| | .----)   |   |  |____ |  |\\  \\----.  \\    /    |  |____\n",
    "|_______/__/     \\__\\ |__| \\__|  \\______| |_______/    |_______|| _| `._____|   \\__/     |_______|\n",
    "\n",
    "LANGSERVE: Playground for chain \"/agent/\" is live at:\n",
    "LANGSERVE:  │\n",
    "LANGSERVE:  └──> /agent/playground/\n",
    "LANGSERVE:\n",
    "LANGSERVE: See all available routes at /docs/\n",
    "\n",
    "LANGSERVE: ⚠️ Using pydantic 2.6.4. OpenAPI docs for invoke, batch, stream, stream_log endpoints will not be generated. API endpoints and playground should work as expected. If you need to see the docs, you can downgrade to pydantic 1. For example, `pip install pydantic==1.10.13`. See https://github.com/tiangolo/fastapi/issues/10360 for details.\n",
    "\n",
    "INFO:     Application startup complete.\n",
    "INFO:     Uvicorn running on http://localhost:8000 (Press CTRL+C to quit)\n",
    "'''"
   ]
  },
  {
   "cell_type": "code",
   "execution_count": null,
   "metadata": {},
   "outputs": [],
   "source": []
  },
  {
   "cell_type": "code",
   "execution_count": null,
   "metadata": {},
   "outputs": [],
   "source": []
  }
 ],
 "metadata": {
  "kernelspec": {
   "display_name": ".venv",
   "language": "python",
   "name": "python3"
  },
  "language_info": {
   "codemirror_mode": {
    "name": "ipython",
    "version": 3
   },
   "file_extension": ".py",
   "mimetype": "text/x-python",
   "name": "python",
   "nbconvert_exporter": "python",
   "pygments_lexer": "ipython3",
   "version": "3.12.2"
  }
 },
 "nbformat": 4,
 "nbformat_minor": 2
}
