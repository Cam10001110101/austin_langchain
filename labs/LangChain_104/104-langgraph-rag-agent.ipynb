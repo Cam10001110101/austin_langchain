{
  "cells": [
    {
      "cell_type": "markdown",
      "id": "a3863cea-ec28-41ce-a8fb-21b3d0c2f0f5",
      "metadata": {
        "id": "a3863cea-ec28-41ce-a8fb-21b3d0c2f0f5"
      },
      "source": [
        "<a href=\"https://colab.research.google.com/github/colinmcnamara/austin_langchain/blob/main/labs/LangChain_104/104-langgraph-rag-agent.ipynb\" target=\"_blank\"><img src=\"https://colab.research.google.com/assets/colab-badge.svg\" alt=\"Open In Colab\"/></a>\n",
        "<a href=\"https://console.paperspace.com/github/colinmcnamara/austin_langchain?file=/blob/main/labs/LangChain_104/104-langgraph-rag-agent.ipynb\">\n",
        "  <img src=\"https://assets.paperspace.io/img/gradient-badge.svg\" alt=\"Run on Gradient\"/>\n",
        "</a>"
      ]
    },
    {
      "cell_type": "markdown",
      "id": "96c86568-985c-466a-b09d-e60f91570503",
      "metadata": {
        "id": "96c86568-985c-466a-b09d-e60f91570503"
      },
      "source": [
        "# RAG Agent with LangGraph, Ollama, Llama2, and SurrealDB\n",
        "\n",
        "## Overview\n",
        "\n",
        "This lab demonstrate how you might build a Langgraph Agent that does the following:\n",
        "1. Inspects and classifies the request\n",
        "2. Depending on the request classifications, uses one of the two RAG stores or Search tool to retrieve data\n",
        "3. Verify quality of retrieved data, and fallback to web search\n",
        "\n",
        "For this lab, we will use `Ollama` to host and serve `llama2` LLM as well as `SurrealDB` database to serve as our vector store."
      ]
    },
    {
      "cell_type": "markdown",
      "id": "9876bbf1-2904-4da3-bd84-8053a0342968",
      "metadata": {
        "id": "9876bbf1-2904-4da3-bd84-8053a0342968"
      },
      "source": [
        "## Install [Ollama](https://ollama.ai)\n",
        "\n",
        "<div style=\"text-align: center\">\n",
        "<img src=\"https://ollama.com/public/ollama.png\" width=100 />\n",
        "</div>\n"
      ]
    },
    {
      "cell_type": "markdown",
      "id": "dcbad4ea-87c9-4cd3-bb24-d34b0d774da6",
      "metadata": {
        "id": "dcbad4ea-87c9-4cd3-bb24-d34b0d774da6"
      },
      "source": [
        "Install Ollama locally, start the service, and pull `llama2` model.  \n",
        "Ollama will be our inference engine to run opensource language models locally."
      ]
    },
    {
      "cell_type": "code",
      "execution_count": 1,
      "id": "EqAjzJetKJX4",
      "metadata": {
        "execution": {
          "iopub.execute_input": "2024-02-17T23:22:31.892265Z",
          "iopub.status.busy": "2024-02-17T23:22:31.890827Z",
          "iopub.status.idle": "2024-02-17T23:22:34.588539Z",
          "shell.execute_reply": "2024-02-17T23:22:34.587261Z",
          "shell.execute_reply.started": "2024-02-17T23:22:31.892218Z"
        },
        "id": "EqAjzJetKJX4"
      },
      "outputs": [],
      "source": [
        "%%capture\n",
        "!curl -L https://ollama.com/download/ollama-linux-amd64 -o /usr/local/bin/ollama\n",
        "!chmod +x /usr/local/bin/ollama"
      ]
    },
    {
      "cell_type": "markdown",
      "id": "613d3b1e-0b03-43c7-8fa8-d123ad08d297",
      "metadata": {
        "id": "613d3b1e-0b03-43c7-8fa8-d123ad08d297"
      },
      "source": [
        "#### Launch Ollama Service"
      ]
    },
    {
      "cell_type": "code",
      "execution_count": 2,
      "id": "0nlYSX9fKVji",
      "metadata": {
        "execution": {
          "iopub.execute_input": "2024-02-17T23:22:52.773834Z",
          "iopub.status.busy": "2024-02-17T23:22:52.772084Z",
          "iopub.status.idle": "2024-02-17T23:22:52.789761Z",
          "shell.execute_reply": "2024-02-17T23:22:52.788755Z",
          "shell.execute_reply.started": "2024-02-17T23:22:52.773783Z"
        },
        "id": "0nlYSX9fKVji"
      },
      "outputs": [],
      "source": [
        "%%bash\n",
        "/usr/local/bin/ollama serve &>ollama_logs &"
      ]
    },
    {
      "cell_type": "markdown",
      "id": "47d0bbbb-c426-4d60-ae0a-14f9e3da0d14",
      "metadata": {
        "id": "47d0bbbb-c426-4d60-ae0a-14f9e3da0d14"
      },
      "source": [
        "#### Download `llama2` model"
      ]
    },
    {
      "cell_type": "code",
      "execution_count": 3,
      "id": "51d8de8b-017b-4f44-9d0d-cd92bf67a322",
      "metadata": {
        "execution": {
          "iopub.execute_input": "2024-02-17T23:22:59.609113Z",
          "iopub.status.busy": "2024-02-17T23:22:59.608561Z",
          "iopub.status.idle": "2024-02-17T23:23:39.670865Z",
          "shell.execute_reply": "2024-02-17T23:23:39.669981Z",
          "shell.execute_reply.started": "2024-02-17T23:22:59.609070Z"
        },
        "id": "51d8de8b-017b-4f44-9d0d-cd92bf67a322"
      },
      "outputs": [],
      "source": [
        "%%capture\n",
        "!/usr/local/bin/ollama pull llama2"
      ]
    },
    {
      "cell_type": "markdown",
      "id": "66e44f0d-b37b-40c6-ba39-79968ba83460",
      "metadata": {
        "id": "66e44f0d-b37b-40c6-ba39-79968ba83460"
      },
      "source": [
        "#### Verify local models"
      ]
    },
    {
      "cell_type": "code",
      "execution_count": 4,
      "id": "efbae2fd-69da-4670-aca0-dd1560669d06",
      "metadata": {
        "colab": {
          "base_uri": "https://localhost:8080/"
        },
        "execution": {
          "iopub.execute_input": "2024-02-17T23:23:47.016911Z",
          "iopub.status.busy": "2024-02-17T23:23:47.015791Z",
          "iopub.status.idle": "2024-02-17T23:23:47.504967Z",
          "shell.execute_reply": "2024-02-17T23:23:47.504101Z",
          "shell.execute_reply.started": "2024-02-17T23:23:47.016866Z"
        },
        "id": "efbae2fd-69da-4670-aca0-dd1560669d06",
        "outputId": "90c7a60d-9579-4b7e-d520-d01ad591aba4"
      },
      "outputs": [
        {
          "output_type": "stream",
          "name": "stdout",
          "text": [
            "NAME         \tID          \tSIZE  \tMODIFIED               \n",
            "llama2:latest\t78e26419b446\t3.8 GB\tLess than a second ago\t\n"
          ]
        }
      ],
      "source": [
        "!/usr/local/bin/ollama list"
      ]
    },
    {
      "cell_type": "markdown",
      "id": "abefa9be-fa74-4de7-a5b2-aacce58b40a4",
      "metadata": {
        "id": "abefa9be-fa74-4de7-a5b2-aacce58b40a4"
      },
      "source": [
        "## Install [SurrealDB](https://surrealdb.com)\n",
        "\n",
        "<div style=\"text-align: center\">\n",
        "<img src=\"https://docs.surrealdb.com/img/surreal-icon.png\" width=100/>\n",
        "</div>\n"
      ]
    },
    {
      "cell_type": "markdown",
      "id": "ce103629-385d-42db-b4a5-47ccea5b7679",
      "metadata": {
        "id": "ce103629-385d-42db-b4a5-47ccea5b7679"
      },
      "source": [
        "Surrealdb is a multi-modal database which has an inbuilt vector datatype.  \n",
        "We can use this to store embeddings of our documents along with the content of the documents."
      ]
    },
    {
      "cell_type": "code",
      "execution_count": 5,
      "id": "mYg7646kKzyi",
      "metadata": {
        "colab": {
          "base_uri": "https://localhost:8080/"
        },
        "execution": {
          "iopub.execute_input": "2024-02-17T23:23:50.837975Z",
          "iopub.status.busy": "2024-02-17T23:23:50.837629Z",
          "iopub.status.idle": "2024-02-17T23:23:53.353713Z",
          "shell.execute_reply": "2024-02-17T23:23:53.352012Z",
          "shell.execute_reply.started": "2024-02-17T23:23:50.837946Z"
        },
        "id": "mYg7646kKzyi",
        "outputId": "3fffc29f-3fe6-41de-d46b-32c95bf5a307"
      },
      "outputs": [
        {
          "output_type": "stream",
          "name": "stdout",
          "text": [
            "\n",
            " .d8888b.                                             888 8888888b.  888888b.\n",
            "d88P  Y88b                                            888 888  'Y88b 888  '88b\n",
            "Y88b.                                                 888 888    888 888  .88P\n",
            " 'Y888b.   888  888 888d888 888d888  .d88b.   8888b.  888 888    888 8888888K.\n",
            "    'Y88b. 888  888 888P'   888P'   d8P  Y8b     '88b 888 888    888 888  'Y88b\n",
            "      '888 888  888 888     888     88888888 .d888888 888 888    888 888    888\n",
            "Y88b  d88P Y88b 888 888     888     Y8b.     888  888 888 888  .d88P 888   d88P\n",
            " 'Y8888P'   'Y88888 888     888      'Y8888  'Y888888 888 8888888P'  8888888P'\n",
            "\n",
            "Fetching the latest database version...\n",
            "Fetching the host system architecture...\n",
            "Installing surreal-v1.2.1 for linux-amd64...\n",
            "\n",
            "SurrealDB successfully installed in:\n",
            "  /usr/local/bin/surreal\n",
            "\n",
            "To see the command-line options run:\n",
            "  surreal help\n",
            "To start an in-memory database server run:\n",
            "  surreal start --log debug --user root --pass root memory\n",
            "For help with getting started visit:\n",
            "  https://surrealdb.com/docs\n",
            "\n"
          ]
        }
      ],
      "source": [
        "%%bash\n",
        "curl -sSf https://install.surrealdb.com | sh"
      ]
    },
    {
      "cell_type": "code",
      "execution_count": 6,
      "id": "IQg_2g0aK77D",
      "metadata": {
        "execution": {
          "iopub.execute_input": "2024-02-17T23:24:07.888238Z",
          "iopub.status.busy": "2024-02-17T23:24:07.886945Z",
          "iopub.status.idle": "2024-02-17T23:24:07.906640Z",
          "shell.execute_reply": "2024-02-17T23:24:07.905198Z",
          "shell.execute_reply.started": "2024-02-17T23:24:07.888189Z"
        },
        "id": "IQg_2g0aK77D"
      },
      "outputs": [],
      "source": [
        "%%bash\n",
        "surreal start --user root --pass root &>surreal_logs &"
      ]
    },
    {
      "cell_type": "markdown",
      "id": "846df195-2027-4bdb-97f4-513138d5e5bd",
      "metadata": {
        "id": "846df195-2027-4bdb-97f4-513138d5e5bd"
      },
      "source": [
        "If the below command generates an error free output, then we can proceed."
      ]
    },
    {
      "cell_type": "code",
      "execution_count": 8,
      "id": "FmjcEiD-LEjc",
      "metadata": {
        "colab": {
          "base_uri": "https://localhost:8080/"
        },
        "execution": {
          "iopub.execute_input": "2024-02-17T23:24:10.194397Z",
          "iopub.status.busy": "2024-02-17T23:24:10.194010Z",
          "iopub.status.idle": "2024-02-17T23:24:10.297061Z",
          "shell.execute_reply": "2024-02-17T23:24:10.296026Z",
          "shell.execute_reply.started": "2024-02-17T23:24:10.194350Z"
        },
        "id": "FmjcEiD-LEjc",
        "outputId": "2ebe07ad-5537-4db2-fac1-1481c82fdba6"
      },
      "outputs": [
        {
          "output_type": "stream",
          "name": "stdout",
          "text": [
            "[{ databases: {  }, tokens: {  }, users: {  } }]\n",
            "\n"
          ]
        },
        {
          "output_type": "stream",
          "name": "stderr",
          "text": [
            "\n",
            "#\n",
            "#  Welcome to the SurrealDB SQL shell\n",
            "#\n",
            "#  How to use this shell:\n",
            "#    - Different statements within a query should be separated by a (;) semicolon.\n",
            "#    - To create a multi-line query, end your lines with a (\\) backslash, and press enter.\n",
            "#    - To exit, send a SIGTERM or press CTRL+C\n",
            "#\n",
            "#  Consult https://surrealdb.com/docs/cli/sql for further instructions\n",
            "#\n",
            "#  SurrealDB version: 1.2.1\n",
            "#\n",
            "\t\t\n"
          ]
        }
      ],
      "source": [
        "%%bash\n",
        "echo \"info for namespace\" | surreal sql --user root --pass root --ns langchain"
      ]
    },
    {
      "cell_type": "markdown",
      "id": "025104d4-3cb7-49c3-b5b6-68ef35896dba",
      "metadata": {
        "id": "025104d4-3cb7-49c3-b5b6-68ef35896dba"
      },
      "source": [
        "## Install python packages"
      ]
    },
    {
      "cell_type": "code",
      "execution_count": 9,
      "id": "6fbcf059-f4cb-423f-8da6-5a2e1f1d2abe",
      "metadata": {
        "execution": {
          "iopub.execute_input": "2024-02-17T23:24:13.989308Z",
          "iopub.status.busy": "2024-02-17T23:24:13.988778Z",
          "iopub.status.idle": "2024-02-17T23:24:46.536968Z",
          "shell.execute_reply": "2024-02-17T23:24:46.535880Z",
          "shell.execute_reply.started": "2024-02-17T23:24:13.989268Z"
        },
        "id": "6fbcf059-f4cb-423f-8da6-5a2e1f1d2abe",
        "scrolled": true
      },
      "outputs": [],
      "source": [
        "%%bash\n",
        "pip install -Uq langchain \\\n",
        "                langchain-community \\\n",
        "                langgraph \\\n",
        "                duckduckgo-search \\\n",
        "                datasets \\\n",
        "                surrealdb \\\n",
        "                sentence-transformers \\\n",
        "                huggingface-hub \\\n",
        "                python-dotenv"
      ]
    },
    {
      "cell_type": "markdown",
      "id": "926fe170-25a1-4ac0-ac69-2e4b9b0450af",
      "metadata": {
        "id": "926fe170-25a1-4ac0-ac69-2e4b9b0450af"
      },
      "source": [
        "## Load environment variables and download datasets"
      ]
    },
    {
      "cell_type": "code",
      "execution_count": 10,
      "id": "6b9c6851-5fd1-46a0-ac39-01cb0f5f1e57",
      "metadata": {
        "execution": {
          "iopub.execute_input": "2024-02-17T23:24:51.285337Z",
          "iopub.status.busy": "2024-02-17T23:24:51.284620Z",
          "iopub.status.idle": "2024-02-17T23:24:52.567582Z",
          "shell.execute_reply": "2024-02-17T23:24:52.566588Z",
          "shell.execute_reply.started": "2024-02-17T23:24:51.285288Z"
        },
        "id": "6b9c6851-5fd1-46a0-ac39-01cb0f5f1e57"
      },
      "outputs": [],
      "source": [
        "from datasets import load_dataset\n",
        "from dotenv import load_dotenv\n",
        "import os"
      ]
    },
    {
      "cell_type": "code",
      "source": [
        "%%writefile test.env\n",
        "LANGCHAIN_API_KEY=\n",
        "LANGCHAIN_PROJECT=\n",
        "LANGCHAIN_TRACING_V2=\n",
        "SURREALDB_URL=ws://localhost:8000/rpc\n",
        "SURREALDB_USER=root\n",
        "SURREALDB_PASS=root"
      ],
      "metadata": {
        "colab": {
          "base_uri": "https://localhost:8080/"
        },
        "id": "stxIvnRTs0Ta",
        "outputId": "ec6af1cc-13bb-466e-a391-6ae26f9ce124"
      },
      "id": "stxIvnRTs0Ta",
      "execution_count": 11,
      "outputs": [
        {
          "output_type": "stream",
          "name": "stdout",
          "text": [
            "Overwriting test.env\n"
          ]
        }
      ]
    },
    {
      "cell_type": "code",
      "execution_count": 12,
      "id": "2fc60943-88fb-477b-b2d0-1cf53f487fa8",
      "metadata": {
        "execution": {
          "iopub.execute_input": "2024-02-17T23:24:58.463380Z",
          "iopub.status.busy": "2024-02-17T23:24:58.462106Z",
          "iopub.status.idle": "2024-02-17T23:24:58.478000Z",
          "shell.execute_reply": "2024-02-17T23:24:58.476729Z",
          "shell.execute_reply.started": "2024-02-17T23:24:58.463307Z"
        },
        "id": "2fc60943-88fb-477b-b2d0-1cf53f487fa8"
      },
      "outputs": [],
      "source": [
        "load_dotenv(\"test.env\");"
      ]
    },
    {
      "cell_type": "code",
      "execution_count": 13,
      "id": "59436977-51ee-464d-a5b2-24ce6ed418b3",
      "metadata": {
        "colab": {
          "base_uri": "https://localhost:8080/"
        },
        "execution": {
          "iopub.execute_input": "2024-02-17T23:24:59.805124Z",
          "iopub.status.busy": "2024-02-17T23:24:59.804241Z",
          "iopub.status.idle": "2024-02-17T23:24:59.813494Z",
          "shell.execute_reply": "2024-02-17T23:24:59.811787Z",
          "shell.execute_reply.started": "2024-02-17T23:24:59.805093Z"
        },
        "id": "59436977-51ee-464d-a5b2-24ce6ed418b3",
        "outputId": "a3b29000-850f-4d53-9f82-e2b06d4a0e52"
      },
      "outputs": [
        {
          "output_type": "stream",
          "name": "stdout",
          "text": [
            "LANGCHAIN_API_KEY: ❌\n",
            "LANGCHAIN_TRACING_V2:  ❌\n",
            "LANGCHAIN_PROJECT:  ❌\n",
            "SURREALDB_USER: ✅\n",
            "SURREALDB_PASS: ✅\n",
            "SURREALDB_URL: ws://localhost:8000/rpc ✅\n"
          ]
        }
      ],
      "source": [
        "priv_env_var_names = [\n",
        "    \"LANGCHAIN_API_KEY\",\n",
        "    \"LANGCHAIN_TRACING_V2\",\n",
        "    \"LANGCHAIN_PROJECT\",\n",
        "    \"SURREALDB_USER\",\n",
        "    \"SURREALDB_PASS\",\n",
        "    \"SURREALDB_URL\",\n",
        "]\n",
        "\n",
        "pub_env_var_names = [\n",
        "    \"LANGCHAIN_TRACING_V2\",\n",
        "    \"LANGCHAIN_PROJECT\",\n",
        "    \"SURREALDB_URL\",\n",
        "]\n",
        "\n",
        "for env_var in priv_env_var_names:\n",
        "    present = \" ✅\" if env_var in os.environ and len(os.environ[env_var]) > 0 else \" ❌\"\n",
        "    value = f\" {os.environ[env_var]}\" if env_var in os.environ and env_var in pub_env_var_names else \"\"\n",
        "    print(f\"{env_var}:{value}{present}\")"
      ]
    },
    {
      "cell_type": "code",
      "execution_count": 14,
      "id": "4ac0602c-9f5a-46f5-b004-4f3b8445e886",
      "metadata": {
        "execution": {
          "iopub.execute_input": "2024-02-17T23:25:03.316976Z",
          "iopub.status.busy": "2024-02-17T23:25:03.316585Z",
          "iopub.status.idle": "2024-02-17T23:25:03.322328Z",
          "shell.execute_reply": "2024-02-17T23:25:03.320980Z",
          "shell.execute_reply.started": "2024-02-17T23:25:03.316948Z"
        },
        "id": "4ac0602c-9f5a-46f5-b004-4f3b8445e886"
      },
      "outputs": [],
      "source": [
        "recipes_dataset_id = \"corbt/all-recipes\"\n",
        "drinks_dataset_id = \"erwanlc/cocktails_recipe\""
      ]
    },
    {
      "cell_type": "code",
      "execution_count": 15,
      "id": "d0e91831-5ea5-4359-a3e0-8511ec1eecc6",
      "metadata": {
        "colab": {
          "base_uri": "https://localhost:8080/"
        },
        "execution": {
          "iopub.execute_input": "2024-02-17T23:25:05.787581Z",
          "iopub.status.busy": "2024-02-17T23:25:05.786332Z",
          "iopub.status.idle": "2024-02-17T23:25:28.249011Z",
          "shell.execute_reply": "2024-02-17T23:25:28.247921Z",
          "shell.execute_reply.started": "2024-02-17T23:25:05.787549Z"
        },
        "id": "d0e91831-5ea5-4359-a3e0-8511ec1eecc6",
        "outputId": "01620f92-817a-48df-be92-fa0327daf813"
      },
      "outputs": [
        {
          "output_type": "stream",
          "name": "stderr",
          "text": [
            "/usr/local/lib/python3.10/dist-packages/huggingface_hub/utils/_token.py:88: UserWarning: \n",
            "The secret `HF_TOKEN` does not exist in your Colab secrets.\n",
            "To authenticate with the Hugging Face Hub, create a token in your settings tab (https://huggingface.co/settings/tokens), set it as secret in your Google Colab and restart your session.\n",
            "You will be able to reuse this secret in all of your notebooks.\n",
            "Please note that authentication is recommended but still optional to access public models or datasets.\n",
            "  warnings.warn(\n"
          ]
        },
        {
          "output_type": "execute_result",
          "data": {
            "text/plain": [
              "Dataset({\n",
              "    features: ['input'],\n",
              "    num_rows: 5000\n",
              "})"
            ]
          },
          "metadata": {},
          "execution_count": 15
        }
      ],
      "source": [
        "recipes = load_dataset(recipes_dataset_id, split=[\"train[:5000]\"])[0]\n",
        "recipes"
      ]
    },
    {
      "cell_type": "code",
      "execution_count": 16,
      "id": "8c835db1-41b5-47d2-a2c4-c197118a4c82",
      "metadata": {
        "colab": {
          "base_uri": "https://localhost:8080/"
        },
        "execution": {
          "iopub.execute_input": "2024-02-17T23:25:28.255832Z",
          "iopub.status.busy": "2024-02-17T23:25:28.254955Z",
          "iopub.status.idle": "2024-02-17T23:25:29.472582Z",
          "shell.execute_reply": "2024-02-17T23:25:29.471674Z",
          "shell.execute_reply.started": "2024-02-17T23:25:28.255801Z"
        },
        "id": "8c835db1-41b5-47d2-a2c4-c197118a4c82",
        "outputId": "8fbdb77b-6802-46a3-c08d-f36f5d6e8c45"
      },
      "outputs": [
        {
          "output_type": "execute_result",
          "data": {
            "text/plain": [
              "Dataset({\n",
              "    features: ['title', 'glass', 'garnish', 'recipe', 'ingredients'],\n",
              "    num_rows: 5000\n",
              "})"
            ]
          },
          "metadata": {},
          "execution_count": 16
        }
      ],
      "source": [
        "drinks = load_dataset(drinks_dataset_id, split=[\"train[:5000]\"])[0]\n",
        "drinks"
      ]
    },
    {
      "cell_type": "markdown",
      "id": "cdb2387e-1e93-4163-8ecd-0bdfa17a31ee",
      "metadata": {
        "id": "cdb2387e-1e93-4163-8ecd-0bdfa17a31ee"
      },
      "source": [
        "## Prepare and populate vector stores"
      ]
    },
    {
      "cell_type": "code",
      "execution_count": 17,
      "id": "d2fdcf10-2bfc-40f8-a1a0-44e8cac234ce",
      "metadata": {
        "execution": {
          "iopub.execute_input": "2024-02-17T23:25:29.477204Z",
          "iopub.status.busy": "2024-02-17T23:25:29.476941Z",
          "iopub.status.idle": "2024-02-17T23:25:29.818375Z",
          "shell.execute_reply": "2024-02-17T23:25:29.817313Z",
          "shell.execute_reply.started": "2024-02-17T23:25:29.477162Z"
        },
        "id": "d2fdcf10-2bfc-40f8-a1a0-44e8cac234ce"
      },
      "outputs": [],
      "source": [
        "from langchain_community.vectorstores import SurrealDBStore\n",
        "from langchain_community.embeddings import HuggingFaceEmbeddings\n",
        "from langchain_core.documents import Document"
      ]
    },
    {
      "cell_type": "code",
      "execution_count": 18,
      "id": "a89250c9-e546-41d3-a58f-08a49eb2cc16",
      "metadata": {
        "colab": {
          "base_uri": "https://localhost:8080/"
        },
        "execution": {
          "iopub.execute_input": "2024-02-17T23:25:39.654675Z",
          "iopub.status.busy": "2024-02-17T23:25:39.653878Z",
          "iopub.status.idle": "2024-02-17T23:25:47.149915Z",
          "shell.execute_reply": "2024-02-17T23:25:47.148070Z",
          "shell.execute_reply.started": "2024-02-17T23:25:39.654644Z"
        },
        "id": "a89250c9-e546-41d3-a58f-08a49eb2cc16",
        "outputId": "3fc47784-0d56-4a9b-a413-36b051266223"
      },
      "outputs": [
        {
          "output_type": "stream",
          "name": "stderr",
          "text": [
            "/usr/local/lib/python3.10/dist-packages/torch/_utils.py:831: UserWarning: TypedStorage is deprecated. It will be removed in the future and UntypedStorage will be the only storage class. This should only matter to you if you are using storages directly.  To access UntypedStorage directly, use tensor.untyped_storage() instead of tensor.storage()\n",
            "  return self.fget.__get__(instance, owner)()\n"
          ]
        }
      ],
      "source": [
        "embeddings = HuggingFaceEmbeddings(model_name=\"sentence-transformers/all-MiniLM-L6-v2\")"
      ]
    },
    {
      "cell_type": "code",
      "execution_count": 19,
      "id": "72235708-1b2c-4778-91f1-411b91fe77f1",
      "metadata": {
        "execution": {
          "iopub.execute_input": "2024-02-17T23:25:49.037452Z",
          "iopub.status.busy": "2024-02-17T23:25:49.037045Z",
          "iopub.status.idle": "2024-02-17T23:25:49.047759Z",
          "shell.execute_reply": "2024-02-17T23:25:49.046534Z",
          "shell.execute_reply.started": "2024-02-17T23:25:49.037424Z"
        },
        "id": "72235708-1b2c-4778-91f1-411b91fe77f1"
      },
      "outputs": [],
      "source": [
        "dburl = os.environ[\"SURREALDB_URL\"]\n",
        "db_user = os.environ[\"SURREALDB_USER\"]\n",
        "db_pass = os.environ[\"SURREALDB_PASS\"]\n",
        "recipes_collection = \"recipes\"\n",
        "drinks_collection = \"drinks\""
      ]
    },
    {
      "cell_type": "code",
      "execution_count": 20,
      "id": "384a3640-d433-46fa-ac03-7e210346acc2",
      "metadata": {
        "execution": {
          "iopub.execute_input": "2024-02-17T23:25:51.366150Z",
          "iopub.status.busy": "2024-02-17T23:25:51.365718Z",
          "iopub.status.idle": "2024-02-17T23:25:51.556493Z",
          "shell.execute_reply": "2024-02-17T23:25:51.555360Z",
          "shell.execute_reply.started": "2024-02-17T23:25:51.366123Z"
        },
        "id": "384a3640-d433-46fa-ac03-7e210346acc2"
      },
      "outputs": [],
      "source": [
        "recipes_db = SurrealDBStore(dburl=dburl,db_user=db_user,db_pass=db_pass,collection=recipes_collection, embedding_function=embeddings)\n",
        "await recipes_db.initialize()\n"
      ]
    },
    {
      "cell_type": "code",
      "execution_count": 21,
      "id": "147e295a-a7dc-4b77-acd5-a7f261019131",
      "metadata": {
        "colab": {
          "base_uri": "https://localhost:8080/"
        },
        "execution": {
          "iopub.execute_input": "2024-02-17T23:25:53.104073Z",
          "iopub.status.busy": "2024-02-17T23:25:53.103690Z",
          "iopub.status.idle": "2024-02-17T23:25:53.112027Z",
          "shell.execute_reply": "2024-02-17T23:25:53.111101Z",
          "shell.execute_reply.started": "2024-02-17T23:25:53.104046Z"
        },
        "id": "147e295a-a7dc-4b77-acd5-a7f261019131",
        "outputId": "08247e3a-dd0f-4735-e598-8acee733e6e0"
      },
      "outputs": [
        {
          "output_type": "execute_result",
          "data": {
            "text/plain": [
              "True"
            ]
          },
          "metadata": {},
          "execution_count": 21
        }
      ],
      "source": [
        "await recipes_db.adelete()"
      ]
    },
    {
      "cell_type": "code",
      "execution_count": 22,
      "id": "41c10de1-47c4-4f4d-adb1-67d6827c75f4",
      "metadata": {
        "colab": {
          "base_uri": "https://localhost:8080/"
        },
        "execution": {
          "iopub.execute_input": "2024-02-17T23:25:54.860198Z",
          "iopub.status.busy": "2024-02-17T23:25:54.859835Z",
          "iopub.status.idle": "2024-02-17T23:26:24.889263Z",
          "shell.execute_reply": "2024-02-17T23:26:24.888445Z",
          "shell.execute_reply.started": "2024-02-17T23:25:54.860171Z"
        },
        "id": "41c10de1-47c4-4f4d-adb1-67d6827c75f4",
        "outputId": "b20c2da7-d903-482e-db01-85fb456e4b6c"
      },
      "outputs": [
        {
          "output_type": "stream",
          "name": "stdout",
          "text": [
            "Processed: 1000 Remaining: 4000\n",
            "Processed: 1000 Remaining: 3000\n",
            "Processed: 1000 Remaining: 2000\n",
            "Processed: 1000 Remaining: 1000\n",
            "Processed: 1000 Remaining: 0\n"
          ]
        }
      ],
      "source": [
        "chunk_size = 1000\n",
        "recipes_list = recipes[\"input\"]\n",
        "while recipes_list:\n",
        "    chunk, recipes_list = recipes_list[:chunk_size], recipes_list[chunk_size:]\n",
        "    await recipes_db.aadd_texts(chunk,metadatas=[{}]*chunk_size)\n",
        "    print(\"Processed:\",len(chunk),\"Remaining:\",len(recipes_list))"
      ]
    },
    {
      "cell_type": "code",
      "execution_count": 23,
      "id": "0704610f-fc67-4ab2-a6a4-73948289957e",
      "metadata": {
        "execution": {
          "iopub.execute_input": "2024-02-17T23:26:24.890842Z",
          "iopub.status.busy": "2024-02-17T23:26:24.890584Z",
          "iopub.status.idle": "2024-02-17T23:26:24.945396Z",
          "shell.execute_reply": "2024-02-17T23:26:24.944396Z",
          "shell.execute_reply.started": "2024-02-17T23:26:24.890816Z"
        },
        "id": "0704610f-fc67-4ab2-a6a4-73948289957e"
      },
      "outputs": [],
      "source": [
        "drinks_db = SurrealDBStore(dburl=dburl,db_user=db_user,db_pass=db_pass,collection=drinks_collection, embedding_function=embeddings)\n",
        "await drinks_db.initialize()\n"
      ]
    },
    {
      "cell_type": "code",
      "execution_count": 24,
      "id": "539f43ed-10f2-4735-b78c-6f587cb051f7",
      "metadata": {
        "colab": {
          "base_uri": "https://localhost:8080/"
        },
        "execution": {
          "iopub.execute_input": "2024-02-17T23:26:24.947239Z",
          "iopub.status.busy": "2024-02-17T23:26:24.946759Z",
          "iopub.status.idle": "2024-02-17T23:26:25.522609Z",
          "shell.execute_reply": "2024-02-17T23:26:25.521722Z",
          "shell.execute_reply.started": "2024-02-17T23:26:24.947212Z"
        },
        "id": "539f43ed-10f2-4735-b78c-6f587cb051f7",
        "outputId": "96a3c070-282e-4490-9b8c-50dbee005142"
      },
      "outputs": [
        {
          "output_type": "execute_result",
          "data": {
            "text/plain": [
              "Dataset({\n",
              "    features: ['title', 'glass', 'garnish', 'recipe', 'ingredients', 'input'],\n",
              "    num_rows: 5000\n",
              "})"
            ]
          },
          "metadata": {},
          "execution_count": 24
        }
      ],
      "source": [
        "drinks = drinks.map(lambda drink: {\n",
        "    'input': f\"\"\"Name: {drink['title']}\n",
        "\n",
        "    Ingredients:\n",
        "    {drink['ingredients']}\n",
        "\n",
        "    Recipe:\n",
        "    {drink['recipe']}\"\"\"\n",
        "    }\n",
        ")\n",
        "drinks"
      ]
    },
    {
      "cell_type": "code",
      "execution_count": 25,
      "id": "86619b5a-ee4d-4453-8a21-59dfaad8dff4",
      "metadata": {
        "colab": {
          "base_uri": "https://localhost:8080/"
        },
        "execution": {
          "iopub.execute_input": "2024-02-17T23:26:28.649287Z",
          "iopub.status.busy": "2024-02-17T23:26:28.648103Z",
          "iopub.status.idle": "2024-02-17T23:26:28.660519Z",
          "shell.execute_reply": "2024-02-17T23:26:28.658862Z",
          "shell.execute_reply.started": "2024-02-17T23:26:28.649241Z"
        },
        "id": "86619b5a-ee4d-4453-8a21-59dfaad8dff4",
        "outputId": "4ce4e889-3eeb-4fb3-c6bc-9277ba57a0f6"
      },
      "outputs": [
        {
          "output_type": "execute_result",
          "data": {
            "text/plain": [
              "True"
            ]
          },
          "metadata": {},
          "execution_count": 25
        }
      ],
      "source": [
        "await drinks_db.adelete()"
      ]
    },
    {
      "cell_type": "code",
      "execution_count": 26,
      "id": "1c60a561-0b30-41f4-a7a5-8001fb5f0566",
      "metadata": {
        "colab": {
          "base_uri": "https://localhost:8080/"
        },
        "execution": {
          "iopub.execute_input": "2024-02-17T23:26:30.242747Z",
          "iopub.status.busy": "2024-02-17T23:26:30.242244Z",
          "iopub.status.idle": "2024-02-17T23:26:58.097163Z",
          "shell.execute_reply": "2024-02-17T23:26:58.095931Z",
          "shell.execute_reply.started": "2024-02-17T23:26:30.242706Z"
        },
        "id": "1c60a561-0b30-41f4-a7a5-8001fb5f0566",
        "outputId": "f92af008-573e-450b-c674-119fe017bfd6"
      },
      "outputs": [
        {
          "output_type": "stream",
          "name": "stdout",
          "text": [
            "Processed: 1000 Remaining: 4000\n",
            "Processed: 1000 Remaining: 3000\n",
            "Processed: 1000 Remaining: 2000\n",
            "Processed: 1000 Remaining: 1000\n",
            "Processed: 1000 Remaining: 0\n"
          ]
        }
      ],
      "source": [
        "chunk_size = 1000\n",
        "drinks_list = drinks[\"input\"]\n",
        "while drinks_list:\n",
        "    chunk, drinks_list = drinks_list[:chunk_size], drinks_list[chunk_size:]\n",
        "    await drinks_db.aadd_texts(chunk,metadatas=[{}]*chunk_size)\n",
        "    print(\"Processed:\",len(chunk),\"Remaining:\",len(drinks_list))"
      ]
    },
    {
      "cell_type": "code",
      "execution_count": 27,
      "id": "b00e6273-bda7-4eb1-8fc0-231789dfaf20",
      "metadata": {
        "colab": {
          "base_uri": "https://localhost:8080/"
        },
        "execution": {
          "iopub.execute_input": "2024-02-17T23:26:58.098928Z",
          "iopub.status.busy": "2024-02-17T23:26:58.098450Z",
          "iopub.status.idle": "2024-02-17T23:27:00.467887Z",
          "shell.execute_reply": "2024-02-17T23:27:00.466957Z",
          "shell.execute_reply.started": "2024-02-17T23:26:58.098888Z"
        },
        "id": "b00e6273-bda7-4eb1-8fc0-231789dfaf20",
        "outputId": "637a5fb8-20e6-48d8-b039-eb31d96456a6"
      },
      "outputs": [
        {
          "output_type": "execute_result",
          "data": {
            "text/plain": [
              "[Document(page_content=\"Name: Mango Cocktail\\n\\n    Ingredients:\\n    [['6 cl', 'Ketel One Citroen Vodka'], ['5 cl', 'Mango purée']]\\n\\n    Recipe:\\n    SHAKE all ingredients with ice and fine strain into chilled glass.\", metadata={'id': 'drinks:ucvftfwkjyi5fxlou8vq'}),\n",
              " Document(page_content=\"Name: Apricot Mango Cocktail\\n\\n    Ingredients:\\n    [['4.5 cl', 'Rutte Dry Gin'], ['2.25 cl', 'De Kuyper Apricot Brandy liqueur'], ['2.25 cl', 'Mango purée'], ['1.5 cl', 'Lemon juice (freshly squeezed)'], ['1.5 cl', 'Sugar syrup (65.0°brix, 2 sugar to 1 water rich syrup)'], ['2 dash', 'Orange Bitters by Angostura']]\\n\\n    Recipe:\\n    SHAKE all ingredients with ice and fine strain into glass.\", metadata={'id': 'drinks:in6qqj9rddvdou5pps5q'}),\n",
              " Document(page_content=\"Name: Mango Punch\\n\\n    Ingredients:\\n    [['6 cl', 'White overproof rum'], ['9 cl', 'Mango purée'], ['2.25 cl', 'Lime juice (freshly squeezed)'], ['2.25 cl', 'Sugar syrup (65.0°brix, 2 sugar to 1 water rich syrup)']]\\n\\n    Recipe:\\n    SHAKE all ingredients with ice and fine strain into glass filled with crushed ice.\", metadata={'id': 'drinks:slj1bw3dd2k8pc4w5891'}),\n",
              " Document(page_content=\"Name: Mango Collins\\n\\n    Ingredients:\\n    [['6 cl', 'Rutte Dry Gin'], ['6 cl', 'Mango purée'], ['4.5 cl', 'Lemon juice (freshly squeezed)'], ['Top up with', 'Thomas Henry Soda Water']]\\n\\n    Recipe:\\n    SHAKE first three ingredients with ice and strain into ice-filled glass. TOP with soda, stir and serve with straws.\", metadata={'id': 'drinks:acku8zy3dk6ehjzmniss'})]"
            ]
          },
          "metadata": {},
          "execution_count": 27
        }
      ],
      "source": [
        "await drinks_db.asimilarity_search(\"non-alcoholic drinks with mango\")"
      ]
    },
    {
      "cell_type": "markdown",
      "id": "74086531-f142-433f-a6a8-762bcbc870e3",
      "metadata": {
        "id": "74086531-f142-433f-a6a8-762bcbc870e3"
      },
      "source": [
        "## Build an Agent Graph using Langgraph\n",
        "\n",
        "![Agent Graph](data:image/png;base64,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)"
      ]
    },
    {
      "cell_type": "markdown",
      "id": "49ae1ced-95b0-4072-8635-488384cea8e3",
      "metadata": {
        "id": "49ae1ced-95b0-4072-8635-488384cea8e3"
      },
      "source": [
        "We will use `duckduckgo` search tool as it doesn't require any api keys."
      ]
    },
    {
      "cell_type": "code",
      "execution_count": 28,
      "id": "3d5ad381-e415-443e-a716-29df00d30046",
      "metadata": {
        "execution": {
          "iopub.execute_input": "2024-02-17T23:27:04.252639Z",
          "iopub.status.busy": "2024-02-17T23:27:04.252091Z",
          "iopub.status.idle": "2024-02-17T23:27:04.331909Z",
          "shell.execute_reply": "2024-02-17T23:27:04.330773Z",
          "shell.execute_reply.started": "2024-02-17T23:27:04.252596Z"
        },
        "id": "3d5ad381-e415-443e-a716-29df00d30046"
      },
      "outputs": [],
      "source": [
        "from langchain_community.tools import DuckDuckGoSearchRun\n",
        "search_tool = DuckDuckGoSearchRun()"
      ]
    },
    {
      "cell_type": "markdown",
      "id": "e2202b65-e700-47de-a748-a5131c16355b",
      "metadata": {
        "id": "e2202b65-e700-47de-a748-a5131c16355b"
      },
      "source": [
        "Import the necessary modules to build the agent graph."
      ]
    },
    {
      "cell_type": "code",
      "execution_count": 29,
      "id": "71e64990-7b8b-4857-b1c4-797e4b1ee9e5",
      "metadata": {
        "execution": {
          "iopub.execute_input": "2024-02-17T23:27:06.003711Z",
          "iopub.status.busy": "2024-02-17T23:27:06.002426Z",
          "iopub.status.idle": "2024-02-17T23:27:06.418463Z",
          "shell.execute_reply": "2024-02-17T23:27:06.416844Z",
          "shell.execute_reply.started": "2024-02-17T23:27:06.003670Z"
        },
        "id": "71e64990-7b8b-4857-b1c4-797e4b1ee9e5"
      },
      "outputs": [],
      "source": [
        "import langgraph\n",
        "from langchain_community.chat_models import ChatOllama\n",
        "from langchain_core.prompts import PromptTemplate\n",
        "from langchain_core.output_parsers import StrOutputParser, JsonOutputParser\n",
        "from langchain_core.pydantic_v1 import BaseModel, Field, validator\n",
        "from pydantic import field_validator"
      ]
    },
    {
      "cell_type": "markdown",
      "id": "6e7ef45b-02b1-46d2-b6f4-7cc2f4ca8a36",
      "metadata": {
        "id": "6e7ef45b-02b1-46d2-b6f4-7cc2f4ca8a36"
      },
      "source": [
        "Our agent memory will track the following:\n",
        "\n",
        "1. `question` we receive from the user\n",
        "2. `context` we retrieve from the vector stores\n",
        "3. `quality` to track whether retrieval was good or bad\n",
        "4. `next` to indicate which path to take next\n",
        "5. `response` to hold the final response"
      ]
    },
    {
      "cell_type": "code",
      "execution_count": 30,
      "id": "13c670fc-1a4a-44b9-bf21-559e18d20ade",
      "metadata": {
        "execution": {
          "iopub.execute_input": "2024-02-17T23:27:08.572281Z",
          "iopub.status.busy": "2024-02-17T23:27:08.571764Z",
          "iopub.status.idle": "2024-02-17T23:27:08.579513Z",
          "shell.execute_reply": "2024-02-17T23:27:08.577964Z",
          "shell.execute_reply.started": "2024-02-17T23:27:08.572244Z"
        },
        "id": "13c670fc-1a4a-44b9-bf21-559e18d20ade"
      },
      "outputs": [],
      "source": [
        "from typing import TypedDict, Sequence, Optional\n",
        "import operator\n",
        "\n",
        "class AgentState(TypedDict):\n",
        "    question: str\n",
        "    context: Optional[Sequence[str]]\n",
        "    response: Optional[str]\n",
        "    steps: Sequence[str]\n",
        "    quality: bool\n",
        "    next: str"
      ]
    },
    {
      "cell_type": "markdown",
      "id": "0f9be15e-4dff-4d6b-800a-6f3f784728d1",
      "metadata": {
        "id": "0f9be15e-4dff-4d6b-800a-6f3f784728d1"
      },
      "source": [
        "### Ollama and `format=\"json\"`\n",
        "\n",
        "Ollama has a neat feature that allows you to specify whether you always expect a `json` response back.  \n",
        "This becomes really handy when you need structured response back so you can easily use it within your business logic.\n",
        "\n",
        "For this lab we will need the language model to response in plain text as well as json depending on how we intend to utilize the output."
      ]
    },
    {
      "cell_type": "code",
      "execution_count": 31,
      "id": "9f14d118-3273-44a7-bb2b-4104171840c6",
      "metadata": {
        "execution": {
          "iopub.execute_input": "2024-02-17T23:27:11.294696Z",
          "iopub.status.busy": "2024-02-17T23:27:11.294272Z",
          "iopub.status.idle": "2024-02-17T23:27:11.309218Z",
          "shell.execute_reply": "2024-02-17T23:27:11.308147Z",
          "shell.execute_reply.started": "2024-02-17T23:27:11.294667Z"
        },
        "id": "9f14d118-3273-44a7-bb2b-4104171840c6"
      },
      "outputs": [],
      "source": [
        "json_model = ChatOllama(model=\"llama2\",format=\"json\",temperature=0)\n",
        "text_model = ChatOllama(model=\"llama2\",temperature=0)"
      ]
    },
    {
      "cell_type": "markdown",
      "id": "b7216403-ad33-4c80-bee9-cc5de17cf156",
      "metadata": {
        "id": "b7216403-ad33-4c80-bee9-cc5de17cf156"
      },
      "source": [
        "### Review Query Node\n",
        "\n",
        "This node will inspect the question and flag it as either \"food\", \"drink\", or \"search\" related request.\n",
        "\n",
        "We create a pydantic schema for our `review_query` node. This will help guide the model to provide conforming json response."
      ]
    },
    {
      "cell_type": "code",
      "execution_count": 32,
      "id": "4b143add-2e1f-47be-abc0-738c804ce671",
      "metadata": {
        "execution": {
          "iopub.execute_input": "2024-02-17T23:27:12.777827Z",
          "iopub.status.busy": "2024-02-17T23:27:12.777469Z",
          "iopub.status.idle": "2024-02-17T23:27:12.784416Z",
          "shell.execute_reply": "2024-02-17T23:27:12.783347Z",
          "shell.execute_reply.started": "2024-02-17T23:27:12.777801Z"
        },
        "id": "4b143add-2e1f-47be-abc0-738c804ce671"
      },
      "outputs": [],
      "source": [
        "class ClassifierOutput(BaseModel):\n",
        "    output: Optional[str] = Field(description=\"Valid values are 'food', 'drink', or 'search'\")\n",
        "\n",
        "    # You can add custom validation logic easily with Pydantic.\n",
        "    @validator(\"output\")\n",
        "    def valid_review_response(cls, field) -> str:\n",
        "        if not field in [\"food\", \"drink\", \"search\"]:\n",
        "            raise ValueError(\"Invalid response\")\n",
        "        return field"
      ]
    },
    {
      "cell_type": "code",
      "execution_count": 33,
      "id": "d07c25e9-5099-45b1-8feb-4c8285b89efc",
      "metadata": {
        "execution": {
          "iopub.execute_input": "2024-02-17T23:27:14.259613Z",
          "iopub.status.busy": "2024-02-17T23:27:14.259248Z",
          "iopub.status.idle": "2024-02-17T23:27:14.266108Z",
          "shell.execute_reply": "2024-02-17T23:27:14.264388Z",
          "shell.execute_reply.started": "2024-02-17T23:27:14.259587Z"
        },
        "id": "d07c25e9-5099-45b1-8feb-4c8285b89efc"
      },
      "outputs": [],
      "source": [
        "review_prompt = PromptTemplate.from_template(\"\"\"You are a request classifier.\n",
        "If the below request is either about recipe for \"food\" or \"drink\", the classify it as such.\n",
        "If the request cannot be classified as either \"food\" or \"drink\", then classify it as \"search\".\n",
        "Respond in valid json only in the below format and do not include any explanation.\n",
        "\n",
        "{{\n",
        "    \"output\": <food or drink or search>\n",
        "}}\n",
        "\n",
        "Request:\n",
        "{question}\n",
        "\n",
        "Output:\n",
        "\"\"\")\n",
        "\n",
        "review_chain = review_prompt | json_model | JsonOutputParser(pydantic_object=ClassifierOutput)"
      ]
    },
    {
      "cell_type": "code",
      "execution_count": 34,
      "id": "4fed69d3-0826-4e3a-a47b-93b0ace35088",
      "metadata": {
        "colab": {
          "base_uri": "https://localhost:8080/"
        },
        "execution": {
          "iopub.execute_input": "2024-02-17T23:27:15.805147Z",
          "iopub.status.busy": "2024-02-17T23:27:15.804704Z",
          "iopub.status.idle": "2024-02-17T23:27:19.740030Z",
          "shell.execute_reply": "2024-02-17T23:27:19.738311Z",
          "shell.execute_reply.started": "2024-02-17T23:27:15.805118Z"
        },
        "id": "4fed69d3-0826-4e3a-a47b-93b0ace35088",
        "outputId": "217bad91-3f56-46c5-c4da-2ebac19ec59f"
      },
      "outputs": [
        {
          "output_type": "execute_result",
          "data": {
            "text/plain": [
              "{'output': 'food'}"
            ]
          },
          "metadata": {},
          "execution_count": 34
        }
      ],
      "source": [
        "review_chain.invoke({\"question\":\"what is the recipe for chicken biriyani\"})"
      ]
    },
    {
      "cell_type": "code",
      "execution_count": 35,
      "id": "ec9a4735-645d-437e-8313-622a19e6b862",
      "metadata": {
        "colab": {
          "base_uri": "https://localhost:8080/"
        },
        "execution": {
          "iopub.execute_input": "2024-02-17T23:27:32.807365Z",
          "iopub.status.busy": "2024-02-17T23:27:32.806973Z",
          "iopub.status.idle": "2024-02-17T23:27:33.409536Z",
          "shell.execute_reply": "2024-02-17T23:27:33.408519Z",
          "shell.execute_reply.started": "2024-02-17T23:27:32.807332Z"
        },
        "id": "ec9a4735-645d-437e-8313-622a19e6b862",
        "outputId": "5e862cc6-da3f-4c5b-d1c4-9de4a09b66b9"
      },
      "outputs": [
        {
          "output_type": "execute_result",
          "data": {
            "text/plain": [
              "{'output': 'drink'}"
            ]
          },
          "metadata": {},
          "execution_count": 35
        }
      ],
      "source": [
        "review_chain.invoke({\"question\":\"mango shake\"})"
      ]
    },
    {
      "cell_type": "code",
      "execution_count": 36,
      "id": "cc8c4c64-5b9a-45e8-b5c3-470e0e9dab36",
      "metadata": {
        "colab": {
          "base_uri": "https://localhost:8080/"
        },
        "execution": {
          "iopub.execute_input": "2024-02-17T23:27:34.979339Z",
          "iopub.status.busy": "2024-02-17T23:27:34.978980Z",
          "iopub.status.idle": "2024-02-17T23:27:35.498072Z",
          "shell.execute_reply": "2024-02-17T23:27:35.496923Z",
          "shell.execute_reply.started": "2024-02-17T23:27:34.979312Z"
        },
        "id": "cc8c4c64-5b9a-45e8-b5c3-470e0e9dab36",
        "outputId": "8f253410-1e1f-43e6-f5e7-d563b68684bf"
      },
      "outputs": [
        {
          "output_type": "execute_result",
          "data": {
            "text/plain": [
              "{'output': 'search'}"
            ]
          },
          "metadata": {},
          "execution_count": 36
        }
      ],
      "source": [
        "review_chain.invoke({\"question\":\"weather\"})"
      ]
    },
    {
      "cell_type": "markdown",
      "id": "569242b1-1049-438c-802d-fcd6e33d4f6b",
      "metadata": {
        "id": "569242b1-1049-438c-802d-fcd6e33d4f6b"
      },
      "source": [
        "### Review Retrieval Node\n",
        "\n",
        "This node will inspect the quality of the retrievals we receive from our vector stores and based on relevance score, determine whether the outputs are good or bad.\n",
        "\n",
        "We create another pydantic schema for this node."
      ]
    },
    {
      "cell_type": "code",
      "execution_count": 37,
      "id": "40f658f1-6382-4e86-b456-ce4008347600",
      "metadata": {
        "execution": {
          "iopub.execute_input": "2024-02-17T23:27:37.297421Z",
          "iopub.status.busy": "2024-02-17T23:27:37.297028Z",
          "iopub.status.idle": "2024-02-17T23:27:37.304443Z",
          "shell.execute_reply": "2024-02-17T23:27:37.303264Z",
          "shell.execute_reply.started": "2024-02-17T23:27:37.297393Z"
        },
        "id": "40f658f1-6382-4e86-b456-ce4008347600"
      },
      "outputs": [],
      "source": [
        "class RatingOutput(BaseModel):\n",
        "    review: bool = Field(description=\"Valid values are true or false\")\n",
        "\n",
        "    # You can add custom validation logic easily with Pydantic.\n",
        "    @validator(\"review\")\n",
        "    def valid_review_response(cls, field) -> str:\n",
        "        if not isinstance(field, bool):\n",
        "            raise ValueError(\"Invalid response\")\n",
        "        return field"
      ]
    },
    {
      "cell_type": "code",
      "execution_count": 38,
      "id": "e04c9c6f-665a-4c11-8668-b171cabfd26c",
      "metadata": {
        "execution": {
          "iopub.execute_input": "2024-02-17T23:27:39.103954Z",
          "iopub.status.busy": "2024-02-17T23:27:39.102761Z",
          "iopub.status.idle": "2024-02-17T23:27:39.109090Z",
          "shell.execute_reply": "2024-02-17T23:27:39.108091Z",
          "shell.execute_reply.started": "2024-02-17T23:27:39.103906Z"
        },
        "id": "e04c9c6f-665a-4c11-8668-b171cabfd26c"
      },
      "outputs": [],
      "source": [
        "review_retrieval_prompt = PromptTemplate.from_template(\"\"\"You are a recipe reviewer.\n",
        "Rate the below recipe against the request and give a rating of \"true\" or \"false\" based on whether the recipe satisfies the request.\n",
        "The recipe MUST be for the food mentioned by name in the request for the rating to be \"true\".\n",
        "Be very sure about your rating.\n",
        "\n",
        "Respond in valid json in the following format:\n",
        "\n",
        "```json\n",
        "{{\n",
        "  \"rating\": true or false\n",
        "}}\n",
        "```\n",
        "\n",
        "Request:\n",
        "########\n",
        "\n",
        "{request}\n",
        "\n",
        "Recipe:\n",
        "########\n",
        "\n",
        "{recipe}\n",
        "\n",
        "Rating Response:\n",
        "########\n",
        "\"\"\")\n",
        "\n",
        "review_retrieval_chain = review_retrieval_prompt | json_model | JsonOutputParser(pydantic_object=RatingOutput)"
      ]
    },
    {
      "cell_type": "markdown",
      "id": "b12b60a8-457a-4d0c-b69b-28513628d2ab",
      "metadata": {
        "id": "b12b60a8-457a-4d0c-b69b-28513628d2ab"
      },
      "source": [
        "### Node Functions"
      ]
    },
    {
      "cell_type": "code",
      "execution_count": 39,
      "id": "b1545d6f-c70b-4181-bd7b-43f2c3f68ee8",
      "metadata": {
        "execution": {
          "iopub.execute_input": "2024-02-17T23:27:42.129029Z",
          "iopub.status.busy": "2024-02-17T23:27:42.128206Z",
          "iopub.status.idle": "2024-02-17T23:27:42.147910Z",
          "shell.execute_reply": "2024-02-17T23:27:42.146631Z",
          "shell.execute_reply.started": "2024-02-17T23:27:42.128988Z"
        },
        "id": "b1545d6f-c70b-4181-bd7b-43f2c3f68ee8"
      },
      "outputs": [],
      "source": [
        "def review_query(state: AgentState):\n",
        "    \"\"\" Review the question and determine next action \"\"\"\n",
        "    state[\"next\"] = review_chain.invoke({\"question\":state[\"question\"]})[\"output\"]\n",
        "    state[\"steps\"] = [\"review_query\"]\n",
        "    return state\n",
        "\n",
        "async def retrieve_recipe(state: AgentState):\n",
        "    \"\"\" Retrieve recipes from recipe store \"\"\"\n",
        "    question = state[\"question\"]\n",
        "    docs = await recipes_db.asimilarity_search_with_relevance_scores(question,score_threshold=0.7)\n",
        "\n",
        "    state[\"context\"] = list(map(lambda doc: doc[0].page_content, docs))\n",
        "    state[\"next\"] = \"\"\n",
        "    state[\"steps\"].append(\"retrieve_recipe\")\n",
        "    return state\n",
        "\n",
        "async def retrieve_drink(state: AgentState):\n",
        "    \"\"\" Retrieve drinks from drink store \"\"\"\n",
        "    question = state[\"question\"]\n",
        "    docs = await drinks_db.asimilarity_search_with_relevance_scores(question,score_threshold=0.7)\n",
        "\n",
        "    state[\"context\"] = list(map(lambda doc: doc[0].page_content, docs))\n",
        "    state[\"next\"] = \"\"\n",
        "    state[\"steps\"].append(\"retrieve_drink\")\n",
        "    return state\n",
        "\n",
        "def review_retrieval(state: AgentState):\n",
        "    \"\"\" Review retrieval and determine next step \"\"\"\n",
        "    responses = [review_retrieval_chain.invoke({\"request\":state[\"question\"],\"recipe\":recipe}) for recipe in state[\"context\"]]\n",
        "    ridx = [(idx, response) for idx, response in enumerate(responses) if response[\"rating\"] == True]\n",
        "\n",
        "    if len(ridx) > 0:\n",
        "        state[\"response\"] = state[\"context\"][ridx[0][0]]\n",
        "        state[\"quality\"] = True\n",
        "    else:\n",
        "        state[\"response\"] = \"\"\n",
        "        state[\"quality\"] = False\n",
        "    state[\"context\"] = \"\"\n",
        "    state[\"steps\"].append(\"review_retrieval\")\n",
        "    return state\n",
        "\n",
        "def search_web(state: AgentState):\n",
        "    \"\"\" Search web \"\"\"\n",
        "    state[\"response\"] = search_tool.invoke(state[\"question\"])\n",
        "    state[\"next\"] = \"\"\n",
        "    del state[\"context\"]\n",
        "    state[\"steps\"].append(\"search_web\")\n",
        "    return state\n"
      ]
    },
    {
      "cell_type": "markdown",
      "id": "100fb5f9-f77d-4597-9ffc-08aede12a83a",
      "metadata": {
        "id": "100fb5f9-f77d-4597-9ffc-08aede12a83a"
      },
      "source": [
        "### Conditional Router Logic"
      ]
    },
    {
      "cell_type": "code",
      "execution_count": 40,
      "id": "6fcd525c-96af-4f27-bd37-665044d92795",
      "metadata": {
        "execution": {
          "iopub.execute_input": "2024-02-17T23:27:44.289796Z",
          "iopub.status.busy": "2024-02-17T23:27:44.289452Z",
          "iopub.status.idle": "2024-02-17T23:27:44.297507Z",
          "shell.execute_reply": "2024-02-17T23:27:44.295755Z",
          "shell.execute_reply.started": "2024-02-17T23:27:44.289769Z"
        },
        "id": "6fcd525c-96af-4f27-bd37-665044d92795"
      },
      "outputs": [],
      "source": [
        "def review_initial_query(state: AgentState):\n",
        "    \"\"\" Review initial query and determine next step \"\"\"\n",
        "    return state[\"next\"]\n",
        "\n",
        "def check_retrieval_quality(state: AgentState):\n",
        "    \"\"\" Review retrieval response and determine whether it is good quality or not \"\"\"\n",
        "    return state[\"quality\"]"
      ]
    },
    {
      "cell_type": "markdown",
      "id": "5dd13f0f-a4cd-43a5-afbf-2eccc6eab1b1",
      "metadata": {
        "id": "5dd13f0f-a4cd-43a5-afbf-2eccc6eab1b1"
      },
      "source": [
        "### Build Agent Graph"
      ]
    },
    {
      "cell_type": "code",
      "execution_count": 41,
      "id": "7490550c-0bc4-45e5-b7b4-d6269206b0b0",
      "metadata": {
        "execution": {
          "iopub.execute_input": "2024-02-17T23:27:46.382339Z",
          "iopub.status.busy": "2024-02-17T23:27:46.381724Z",
          "iopub.status.idle": "2024-02-17T23:27:46.421580Z",
          "shell.execute_reply": "2024-02-17T23:27:46.420638Z",
          "shell.execute_reply.started": "2024-02-17T23:27:46.382311Z"
        },
        "id": "7490550c-0bc4-45e5-b7b4-d6269206b0b0"
      },
      "outputs": [],
      "source": [
        "from langgraph.graph import StateGraph, END\n",
        "# Define a new graph\n",
        "workflow = StateGraph(AgentState)\n",
        "\n",
        "# Define the two nodes we will cycle between\n",
        "workflow.add_node(\"review_query\", review_query)\n",
        "workflow.add_node(\"retrieve_recipe\", retrieve_recipe)\n",
        "workflow.add_node(\"retrieve_drink\", retrieve_drink)\n",
        "workflow.add_node(\"review_retrieval\", review_retrieval)\n",
        "workflow.add_node(\"search_web\", search_web)\n",
        "\n",
        "workflow.set_entry_point(\"review_query\")\n",
        "\n",
        "workflow.add_conditional_edges(\n",
        "    \"review_query\",\n",
        "    review_initial_query,\n",
        "    {\n",
        "        \"food\": \"retrieve_recipe\",\n",
        "        \"drink\": \"retrieve_drink\",\n",
        "        \"search\": \"search_web\",\n",
        "    }\n",
        ")\n",
        "\n",
        "workflow.add_edge(\"retrieve_recipe\",\"review_retrieval\")\n",
        "workflow.add_edge(\"retrieve_drink\",\"review_retrieval\")\n",
        "\n",
        "workflow.add_conditional_edges(\n",
        "    \"review_retrieval\",\n",
        "    check_retrieval_quality,\n",
        "    {\n",
        "        True: END,\n",
        "        False: \"search_web\",\n",
        "    }\n",
        ")\n",
        "\n",
        "workflow.add_edge(\"search_web\", END)\n",
        "\n",
        "app = workflow.compile()"
      ]
    },
    {
      "cell_type": "markdown",
      "id": "26014295-e7ab-4ee2-a87e-781eedae6a0a",
      "metadata": {
        "id": "26014295-e7ab-4ee2-a87e-781eedae6a0a"
      },
      "source": [
        "### Test Runs"
      ]
    },
    {
      "cell_type": "code",
      "execution_count": 42,
      "id": "ee2d98ba-6325-4575-bd1d-3ef1e2448259",
      "metadata": {
        "colab": {
          "base_uri": "https://localhost:8080/"
        },
        "execution": {
          "iopub.execute_input": "2024-02-17T23:27:48.574308Z",
          "iopub.status.busy": "2024-02-17T23:27:48.573562Z",
          "iopub.status.idle": "2024-02-17T23:27:54.746666Z",
          "shell.execute_reply": "2024-02-17T23:27:54.745337Z",
          "shell.execute_reply.started": "2024-02-17T23:27:48.574280Z"
        },
        "id": "ee2d98ba-6325-4575-bd1d-3ef1e2448259",
        "outputId": "c1843786-575a-47f8-f9f7-b4b6320d16af"
      },
      "outputs": [
        {
          "output_type": "execute_result",
          "data": {
            "text/plain": [
              "{'question': 'What is the recipe of pineapple chicken',\n",
              " 'context': '',\n",
              " 'response': 'Baked Pineapple Chicken\\n\\nIngredients:\\n- 1 (20 oz.) can pineapple slices\\n- 1 clove garlic, crushed\\n- 2 tsp. cornstarch\\n- 2 tsp. Worcestershire sauce\\n- 2 tsp. Dijon mustard\\n- 1 tsp. rosemary, crushed\\n- 6 half chicken breasts, boned\\n- 1 lemon, thinly sliced\\n\\nDirections:\\n- Drain pineapple; reserve juice.\\n- Combine reserved juice with garlic, cornstarch, Worcestershire sauce, mustard and rosemary. Arrange chicken in shallow baking dish on broiler-proof dish, skin side up.\\n- Broil until browned.\\n- Stir sauce; pour over chicken.\\n- Bake at 400° for 30 minutes.',\n",
              " 'steps': ['review_query', 'retrieve_recipe', 'review_retrieval'],\n",
              " 'quality': True,\n",
              " 'next': ''}"
            ]
          },
          "metadata": {},
          "execution_count": 42
        }
      ],
      "source": [
        "await app.ainvoke({\"question\":\"What is the recipe of pineapple chicken\"})"
      ]
    },
    {
      "cell_type": "code",
      "execution_count": 43,
      "id": "21d24168-f65c-4cb9-ba58-44eae1515d72",
      "metadata": {
        "colab": {
          "base_uri": "https://localhost:8080/"
        },
        "execution": {
          "iopub.execute_input": "2024-02-17T23:27:54.748616Z",
          "iopub.status.busy": "2024-02-17T23:27:54.748286Z",
          "iopub.status.idle": "2024-02-17T23:27:59.700230Z",
          "shell.execute_reply": "2024-02-17T23:27:59.699268Z",
          "shell.execute_reply.started": "2024-02-17T23:27:54.748588Z"
        },
        "id": "21d24168-f65c-4cb9-ba58-44eae1515d72",
        "outputId": "fe61358f-612f-4fb5-f1d5-e841062694d2"
      },
      "outputs": [
        {
          "output_type": "execute_result",
          "data": {
            "text/plain": [
              "{'question': 'How to make a martini',\n",
              " 'context': '',\n",
              " 'response': \"Name: One Sip Martini\\n\\n    Ingredients:\\n    [['2.5 cl', 'Ketel One Vodka'], ['0.5 cl', 'Martini Riserva Speciale Ambrato'], ['0.125 cl', 'Fino sherry']]\\n\\n    Recipe:\\n    STIR all ingredients with ice and strain into chilled glass.\",\n",
              " 'steps': ['review_query', 'retrieve_drink', 'review_retrieval'],\n",
              " 'quality': True,\n",
              " 'next': ''}"
            ]
          },
          "metadata": {},
          "execution_count": 43
        }
      ],
      "source": [
        "await app.ainvoke({\"question\":\"How to make a martini\"})"
      ]
    },
    {
      "cell_type": "code",
      "execution_count": 44,
      "id": "bbab6a3b-d4d2-4fa6-bbbf-a579a5ca63bd",
      "metadata": {
        "colab": {
          "base_uri": "https://localhost:8080/"
        },
        "execution": {
          "iopub.execute_input": "2024-02-17T23:27:59.701671Z",
          "iopub.status.busy": "2024-02-17T23:27:59.701267Z",
          "iopub.status.idle": "2024-02-17T23:28:02.778263Z",
          "shell.execute_reply": "2024-02-17T23:28:02.777536Z",
          "shell.execute_reply.started": "2024-02-17T23:27:59.701641Z"
        },
        "id": "bbab6a3b-d4d2-4fa6-bbbf-a579a5ca63bd",
        "outputId": "4acd942e-ccad-461a-eb65-fac4cbeda2dd"
      },
      "outputs": [
        {
          "output_type": "execute_result",
          "data": {
            "text/plain": [
              "{'question': 'How to make a Chicken Manchurian with gravy',\n",
              " 'context': '',\n",
              " 'response': \"Chicken Manchurian is a popular Indo-Chinese dish, like chilli chicken and crispy beef, is made with boneless chicken pieces that are deep-fried and then cooked in a tangy and spicy sauce. It is typically served as an appetizer or a side dish with fried rice or hakka noodles. Pin20 Share Yum Chicken Manchurian is a popular Indo-Chinese chicken recipe that pairs deep-fried chicken pieces with a sweet, hot and sour sauce. This fusion dish is often served as an appetizer or pair Manchurian chicken with rice and steamed or stir-fried veggies to make it a complete meal. To make traditional restaurant-style Chicken Manchurian, you first bread and deep fry chicken pieces, then stir fry them in a sweet tomato-based glaze with crushed red pepper flakes, ginger, garlic, and peppers. From start to finish the meal comes together in less than an hour! We're sharing a simplified traditional recipe today. Chicken Manchurian Gravy Recipe | Restaurant Style Chicken ManchurianSubscribe to my channel for Quick , Simple and Easy Recipes.https://www.youtube.com/@Rah... This delicious and tangy chicken gravy has become one of the top-rated dishes ordered at Chinese restaurants, especially in the Asian Subcontinent. And why not? Tender bite-size pieces of crispy fried chicken, enveloped in a sweet and tangy sauce, served with fluffy and flavorful rice cooked with a medley of vegetables. Wow!\",\n",
              " 'steps': ['review_query',\n",
              "  'retrieve_recipe',\n",
              "  'review_retrieval',\n",
              "  'search_web'],\n",
              " 'quality': False,\n",
              " 'next': ''}"
            ]
          },
          "metadata": {},
          "execution_count": 44
        }
      ],
      "source": [
        "await app.ainvoke({\"question\":\"How to make a Chicken Manchurian with gravy\"})"
      ]
    },
    {
      "cell_type": "code",
      "execution_count": 45,
      "id": "77457015-f058-44b5-985a-15816d37a243",
      "metadata": {
        "colab": {
          "base_uri": "https://localhost:8080/"
        },
        "execution": {
          "iopub.execute_input": "2024-02-17T23:28:02.780299Z",
          "iopub.status.busy": "2024-02-17T23:28:02.779653Z",
          "iopub.status.idle": "2024-02-17T23:28:04.342503Z",
          "shell.execute_reply": "2024-02-17T23:28:04.341824Z",
          "shell.execute_reply.started": "2024-02-17T23:28:02.780271Z"
        },
        "id": "77457015-f058-44b5-985a-15816d37a243",
        "outputId": "c2dbb745-1120-432f-980e-1920e6154ab0"
      },
      "outputs": [
        {
          "output_type": "execute_result",
          "data": {
            "text/plain": [
              "{'question': 'What is the weather in Kauai',\n",
              " 'context': None,\n",
              " 'response': 'The best times to visit Kauai, when considering the weather, crowds, demand, and prices, are the months of April, May, August, September, and early October. Some call these Kauai\\'s \\'off-season periods\\' or the \\'shoulder months.\\' But there\\'s more to cover on this topic before you make a final decision. Today Partly cloudy. Sunrise: 07:11 Sunset: 18:33 Tue 13 Feb 26° 20° Wed 14 Feb 25° 20° Thu 15 Feb 23° 18° Fri 16 Feb 22° 19° Sat 17 Feb 22° 20° Sun 18 Feb 22° 19° Mon 19 Feb Today Tuesday... Like the rest of the Hawaiian archipelago, Kauai has wet and dry seasons. Kauai is also home to one of the wettest spots on the planet (the Waialeale). The extra water is a win, though—Kauai is lush and brimming with tropical flora and fauna, earning it the \"Garden Isle\" nickname. The rainy season runs from fall through the winter. Pinterest You\\'ve made the excellent decision to visit Kauai. But now you have the task of figuring out when to go. Kauai is probably one of the trickier islands to pick your timing for a visit as the Garden Isle gets a lot of rain and strong currents during the winter months. For some, the tropical rainfall can be a big damper on a vacation. Mostly cloudy, with a low around 65. Thursday: Showers likely. Mostly cloudy, with a high near 76. Thursday Night: Mostly cloudy, with a low around 65. Friday: Scattered showers. Partly sunny, with a high near 76. view Yesterday\\'s Weather. Lihue Airport. Lat: 21.98 Lon: -159.35 Elev: 103.',\n",
              " 'steps': ['review_query', 'search_web'],\n",
              " 'quality': None,\n",
              " 'next': ''}"
            ]
          },
          "metadata": {},
          "execution_count": 45
        }
      ],
      "source": [
        "await app.ainvoke({\"question\":\"What is the weather in Kauai\"})"
      ]
    },
    {
      "cell_type": "code",
      "execution_count": 45,
      "id": "c9499e71-24fe-49e7-9595-601dce8e8caf",
      "metadata": {
        "id": "c9499e71-24fe-49e7-9595-601dce8e8caf"
      },
      "outputs": [],
      "source": []
    }
  ],
  "metadata": {
    "accelerator": "GPU",
    "colab": {
      "gpuType": "T4",
      "provenance": []
    },
    "kernelspec": {
      "display_name": "Python 3 (ipykernel)",
      "language": "python",
      "name": "python3"
    },
    "language_info": {
      "codemirror_mode": {
        "name": "ipython",
        "version": 3
      },
      "file_extension": ".py",
      "mimetype": "text/x-python",
      "name": "python",
      "nbconvert_exporter": "python",
      "pygments_lexer": "ipython3",
      "version": "3.10.12"
    }
  },
  "nbformat": 4,
  "nbformat_minor": 5
}