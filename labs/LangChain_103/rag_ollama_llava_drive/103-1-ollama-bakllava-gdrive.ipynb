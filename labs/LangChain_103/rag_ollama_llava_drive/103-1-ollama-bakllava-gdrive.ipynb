{
 "cells": [
  {
   "cell_type": "markdown",
   "metadata": {
    "id": "Ns1-iCD0PMta"
   },
   "source": [
    "<a href=\"https://colab.research.google.com/github/colinmcnamara/austin_langchain/blob/main/labs/LangChain_103/rag_ollama_llava_drive/103-1-ollama-bakllava-gdrive.ipynb\" target=\"_parent\"><img src=\"https://colab.research.google.com/assets/colab-badge.svg\" alt=\"Open In Colab\"/></a>"
   ]
  },
  {
   "cell_type": "markdown",
   "metadata": {},
   "source": [
    "### Create requirements.txt file with project dependencies"
   ]
  },
  {
   "cell_type": "code",
   "execution_count": 8,
   "metadata": {},
   "outputs": [
    {
     "name": "stdout",
     "output_type": "stream",
     "text": [
      "Overwriting requirements.txt\n"
     ]
    }
   ],
   "source": [
    "%%writefile requirements.txt\n",
    "langchain-core \n",
    "langchain-community \n",
    "streamlit \n",
    "google-api-python-client \n",
    "google-auth-httplib2 \n",
    "google-auth-oauthlib"
   ]
  },
  {
   "cell_type": "markdown",
   "metadata": {},
   "source": [
    "### Create **mygdrive** module with *MyGDrive* class to encapsulate our Google Drive API interactions"
   ]
  },
  {
   "cell_type": "code",
   "execution_count": 9,
   "metadata": {},
   "outputs": [
    {
     "name": "stdout",
     "output_type": "stream",
     "text": [
      "Overwriting mygdrive.py\n"
     ]
    }
   ],
   "source": [
    "%%writefile mygdrive.py\n",
    "import base64\n",
    "import io\n",
    "from googleapiclient.discovery import build\n",
    "from googleapiclient.errors import HttpError\n",
    "from googleapiclient.http import MediaIoBaseDownload\n",
    "from google.oauth2 import service_account\n",
    "\n",
    "\n",
    "class MyGDrive:\n",
    "    def __init__(self, service_account_json_key):\n",
    "        scope = ['https://www.googleapis.com/auth/drive']\n",
    "        # service_account_json_key = 'service-account-key.json'\n",
    "        credentials = service_account.Credentials.from_service_account_file(\n",
    "                                      filename=service_account_json_key,\n",
    "                                      scopes=scope)\n",
    "        self.service = build('drive', 'v3', credentials=credentials)\n",
    "\n",
    "    def get_files(self):\n",
    "        results = (\n",
    "                self.service.files()\n",
    "                .list(pageSize=1000,\n",
    "                      fields=\"nextPageToken, \"\n",
    "                      \"files(id, name, mimeType, size, modifiedTime, parents)\",\n",
    "                      q='mimeType != \"application/vnd.google-apps.folder\"')\n",
    "                .execute()\n",
    "                )\n",
    "        # get the results\n",
    "        return results.get('files', [])\n",
    "\n",
    "    def get_file_contents(self, fileId: str, encoded: bool = True):\n",
    "        try:\n",
    "            request_file = self.service.files().get_media(fileId=fileId)\n",
    "            file = io.BytesIO()\n",
    "            downloader = MediaIoBaseDownload(file, request_file)\n",
    "            done = False\n",
    "            while done is False:\n",
    "                status, done = downloader.next_chunk()\n",
    "            file_retrieved = file.getvalue()\n",
    "            if encoded:\n",
    "                return base64.b64encode(file_retrieved).decode()\n",
    "            else:\n",
    "                return file_retrieved\n",
    "        except HttpError as error:\n",
    "            print(F'An error occurred: {error}')\n"
   ]
  },
  {
   "cell_type": "markdown",
   "metadata": {},
   "source": [
    "### Create our Streamlit App"
   ]
  },
  {
   "cell_type": "code",
   "execution_count": null,
   "metadata": {},
   "outputs": [],
   "source": [
    "%%writefile streamlitapp.py\n",
    "import base64\n",
    "import streamlit as st\n",
    "from langchain_community.llms import Ollama\n",
    "from langchain_core.prompts import PromptTemplate\n",
    "from langchain_core.runnables import RunnableLambda\n",
    "from langchain_core.messages import AIMessage, HumanMessage\n",
    "from mygdrive import MyGDrive\n",
    "from operator import itemgetter\n",
    "\n",
    "\n",
    "def bind_and_run_llm(payload):\n",
    "    image = payload[\"image\"]\n",
    "    prompt = payload[\"prompt\"]\n",
    "    bound = llm.bind(images=[image])\n",
    "    return bound.invoke(prompt)\n",
    "\n",
    "\n",
    "@st.cache_data\n",
    "def get_service(service_account_key):\n",
    "    return MyGDrive(service_account_key)\n",
    "\n",
    "\n",
    "@st.cache_data\n",
    "def get_files(_service: MyGDrive):\n",
    "    return _service.get_files()\n",
    "\n",
    "\n",
    "@st.cache_data\n",
    "def get_file_contents(_service: MyGDrive, fileId: str, encoded: bool):\n",
    "    return _service.get_file_contents(fileId, encoded)\n",
    "\n",
    "\n",
    "st.title(\"Multimodal Chat\")\n",
    "llm = Ollama(model=\"bakllava\")\n",
    "\n",
    "image_prompt = PromptTemplate.from_template(\"{image}\")\n",
    "prompt = PromptTemplate.from_template(\"{question}\")\n",
    "\n",
    "chain = (\n",
    "    {\"image\": itemgetter(\"image\"), \"prompt\": prompt} |\n",
    "    RunnableLambda(bind_and_run_llm)\n",
    ")\n",
    "\n",
    "\n",
    "if \"messages\" not in st.session_state:\n",
    "    st.session_state[\"messages\"] = [\n",
    "            (AIMessage(content=\"How can I help you?\"), False)\n",
    "            ]\n",
    "\n",
    "if \"uploaded_file\" not in st.session_state:\n",
    "    st.session_state[\"uploaded_file\"] = None\n",
    "\n",
    "for msg in st.session_state.messages:\n",
    "    if not msg[1]:\n",
    "        st.chat_message(msg[0].type).write(msg[0].content)\n",
    "    else:\n",
    "        st.chat_message(msg[0].type).image(msg[0].data, width=200)\n",
    "\n",
    "\n",
    "def on_upload_image(fileName, fileContents):\n",
    "    st.session_state.uploaded_file = fileName\n",
    "    st.session_state.uploaded_file_contents = fileContents\n",
    "    st.session_state.messages.append(\n",
    "            (HumanMessage(\n",
    "                content=fileName,\n",
    "                data=fileContents\n",
    "                ), True))\n",
    "    st.chat_message(\"user\").image(fileContents, width=200)\n",
    "\n",
    "\n",
    "with st.sidebar:\n",
    "    if uploaded_file := st.file_uploader(\"Upload an image file\",\n",
    "                                         type=[\"jpg\", \"png\"]):\n",
    "        on_upload_image(uploaded_file.name, uploaded_file.getvalue())\n",
    "\n",
    "    if gcloud_service_key_file := st.file_uploader(\n",
    "            \"Upload your Google Cloud Service Account Key file \"\n",
    "            \"to access images from your Google Drive\", type=[\"json\"]\n",
    "            ):\n",
    "        with open(gcloud_service_key_file.name, \"wb\") as f:\n",
    "            f.write(gcloud_service_key_file.getvalue())\n",
    "        st.session_state[\"gcloud_service_account\"] = gcloud_service_key_file.name\n",
    "\n",
    "if \"gcloud_service_account\" in st.session_state.keys():\n",
    "    mydrive = get_service(st.session_state[\"gcloud_service_account\"])\n",
    "    for item in get_files(mydrive):\n",
    "        if item[\"mimeType\"][0:5] == \"image\":\n",
    "            fileId = item[\"id\"]\n",
    "            fileName = item[\"name\"]\n",
    "            contents = get_file_contents(mydrive, fileId, False)\n",
    "            st.sidebar.image(contents, width=100)\n",
    "            if st.sidebar.button(\"Use\", key=fileId):\n",
    "                on_upload_image(fileName, contents)\n",
    "\n",
    "if prompt := st.chat_input():\n",
    "    st.session_state.messages.append((HumanMessage(content=prompt), False))\n",
    "    st.chat_message(\"human\").write(prompt)\n",
    "\n",
    "    response = \"\"\n",
    "    if st.session_state.uploaded_file_contents is not None:\n",
    "        data = st.session_state.uploaded_file_contents\n",
    "        b64 = base64.b64encode(data).decode()\n",
    "\n",
    "        response = chain.invoke({\"question\": prompt, \"image\": b64})\n",
    "    else:\n",
    "        response = \"Please upload an image first\"\n",
    "\n",
    "    st.session_state.messages.append((AIMessage(content=response), False))\n",
    "    st.chat_message(\"assistant\").write(response)\n"
   ]
  },
  {
   "cell_type": "markdown",
   "metadata": {},
   "source": [
    "### Prepare Google Drive\n",
    "\n",
    "1. Go to [Google Cloud Console](https://console.cloud.google.com) and create a new Google Cloud Project\n",
    "2. From search bar on the dashboard, search for `Google Drive API`\n",
    "3. Click `Google Drive API` from the search results list (under Marketplace) and click `Enable` to add it to you project\n",
    "4. From `IAM & Admin`, go to `Service Accounts` and create a new Service Account\n",
    "    * Download the key in json format and save it in a secure place\n",
    "    * Make a note of the service account name (in email address format)\n",
    "5. On you Google Drive, create a new folder and upload a few image files in it\n",
    "6. Share the newly created Google Drive folder with the email address of the service account you created in step 2 "
   ]
  },
  {
   "cell_type": "markdown",
   "metadata": {
    "id": "fFa0Fpq-PMtf"
   },
   "source": [
    "### Download and run ollama\n",
    "\n",
    "Below, we:\n",
    "1. download the ollama binary\n",
    "2. make it executable\n",
    "3. start ollama in the background\n",
    "4. download the hosted bakllava model"
   ]
  },
  {
   "cell_type": "code",
   "execution_count": null,
   "metadata": {},
   "outputs": [],
   "source": [
    "%pip install -r requirements.txt"
   ]
  },
  {
   "cell_type": "code",
   "execution_count": 3,
   "metadata": {
    "id": "dA6_BjFEPMtf"
   },
   "outputs": [],
   "source": [
    "%%capture\n",
    "!curl -L https://ollama.ai/download/ollama-linux-amd64 -o ollama\n",
    "!chmod +x ollama\n",
    "!./ollama serve &>/content/ollama_logs.txt &\n",
    "!./ollama pull bakllava"
   ]
  },
  {
   "cell_type": "markdown",
   "metadata": {},
   "source": [
    "### Start and background streamlit app"
   ]
  },
  {
   "cell_type": "code",
   "execution_count": null,
   "metadata": {
    "id": "YeNLTTJSY5NM"
   },
   "outputs": [],
   "source": [
    "!streamlit run streamingapp.py &>/content/logs.txt &"
   ]
  },
  {
   "cell_type": "markdown",
   "metadata": {
    "id": "ifux-mmzcTQK"
   },
   "source": [
    "## Find the IP of your instance"
   ]
  },
  {
   "cell_type": "code",
   "execution_count": 5,
   "metadata": {
    "colab": {
     "base_uri": "https://localhost:8080/"
    },
    "id": "nQz0WaTTcTQK",
    "outputId": "99462135-a0aa-41c9-f0cf-a21e0eb144e9"
   },
   "outputs": [
    {
     "name": "stdout",
     "output_type": "stream",
     "text": [
      "35.227.3.82\n",
      "Copy this IP into the webpage that opens below\n"
     ]
    }
   ],
   "source": [
    "!curl ipv4.icanhazip.com\n",
    "!echo \"Copy this IP into the webpage that opens below\""
   ]
  },
  {
   "cell_type": "markdown",
   "metadata": {
    "id": "1XkNhk9abV29"
   },
   "source": [
    "## Expose the Streamlit app on port 8501"
   ]
  },
  {
   "cell_type": "code",
   "execution_count": null,
   "metadata": {
    "colab": {
     "base_uri": "https://localhost:8080/"
    },
    "id": "_DDegT-jZ2Q5",
    "outputId": "e319b466-95b7-4e6d-e07e-a6eb3a6eb1a7"
   },
   "outputs": [
    {
     "name": "stdout",
     "output_type": "stream",
     "text": [
      "\u001b[K\u001b[?25hnpx: installed 22 in 3.73s\n",
      "your url is: https://common-mails-doubt.loca.lt\n"
     ]
    }
   ],
   "source": [
    "!npx localtunnel --port 8501"
   ]
  }
 ],
 "metadata": {
  "accelerator": "GPU",
  "colab": {
   "gpuType": "T4",
   "provenance": []
  },
  "kernelspec": {
   "display_name": "Python 3 (ipykernel)",
   "language": "python",
   "name": "python3"
  },
  "language_info": {
   "codemirror_mode": {
    "name": "ipython",
    "version": 3
   },
   "file_extension": ".py",
   "mimetype": "text/x-python",
   "name": "python",
   "nbconvert_exporter": "python",
   "pygments_lexer": "ipython3",
   "version": "3.10.12"
  }
 },
 "nbformat": 4,
 "nbformat_minor": 4
}
