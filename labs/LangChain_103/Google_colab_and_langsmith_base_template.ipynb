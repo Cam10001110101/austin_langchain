{
  "nbformat": 4,
  "nbformat_minor": 0,
  "metadata": {
    "colab": {
      "provenance": [],
      "authorship_tag": "ABX9TyPeHNuETGbh38tQOMZ4p7Pu",
      "include_colab_link": true
    },
    "kernelspec": {
      "name": "python3",
      "display_name": "Python 3"
    },
    "language_info": {
      "name": "python"
    }
  },
  "cells": [
    {
      "cell_type": "markdown",
      "metadata": {
        "id": "view-in-github",
        "colab_type": "text"
      },
      "source": [
        "<a href=\"https://colab.research.google.com/github/colinmcnamara/austin_langchain/blob/main/Google_colab_and_langsmith_base_template.ipynb\" target=\"_parent\"><img src=\"https://colab.research.google.com/assets/colab-badge.svg\" alt=\"Open In Colab\"/></a>"
      ]
    },
    {
      "cell_type": "markdown",
      "source": [],
      "metadata": {
        "id": "uoFXS7T04a0S"
      }
    },
    {
      "cell_type": "code",
      "source": [
        "!pip -q install langchain openai tiktoken\n"
      ],
      "metadata": {
        "id": "G_oFopNDjhF7",
        "colab": {
          "base_uri": "https://localhost:8080/"
        },
        "outputId": "956b5c69-03d0-49a0-cfe7-c19358039178"
      },
      "execution_count": 1,
      "outputs": [
        {
          "output_type": "stream",
          "name": "stdout",
          "text": [
            "\u001b[2K     \u001b[90m━━━━━━━━━━━━━━━━━━━━━━━━━━━━━━━━━━━━━━━━\u001b[0m \u001b[32m1.7/1.7 MB\u001b[0m \u001b[31m8.9 MB/s\u001b[0m eta \u001b[36m0:00:00\u001b[0m\n",
            "\u001b[2K     \u001b[90m━━━━━━━━━━━━━━━━━━━━━━━━━━━━━━━━━━━━━━━━\u001b[0m \u001b[32m76.5/76.5 kB\u001b[0m \u001b[31m6.5 MB/s\u001b[0m eta \u001b[36m0:00:00\u001b[0m\n",
            "\u001b[2K     \u001b[90m━━━━━━━━━━━━━━━━━━━━━━━━━━━━━━━━━━━━━━━━\u001b[0m \u001b[32m1.7/1.7 MB\u001b[0m \u001b[31m25.1 MB/s\u001b[0m eta \u001b[36m0:00:00\u001b[0m\n",
            "\u001b[2K     \u001b[90m━━━━━━━━━━━━━━━━━━━━━━━━━━━━━━━━━━━━━━━━\u001b[0m \u001b[32m49.4/49.4 kB\u001b[0m \u001b[31m4.1 MB/s\u001b[0m eta \u001b[36m0:00:00\u001b[0m\n",
            "\u001b[?25h"
          ]
        }
      ]
    },
    {
      "cell_type": "markdown",
      "metadata": {
        "id": "bf4061ce"
      },
      "source": [
        "# Connect to colab_env providing your keys"
      ]
    },
    {
      "cell_type": "markdown",
      "source": [
        "# Create a vars.env file in the root of your google drive"
      ],
      "metadata": {
        "id": "yR0tTOD58vu3"
      }
    },
    {
      "cell_type": "markdown",
      "source": [
        "## Sample vars.env\n",
        "Save this as vars.env in the root of your google drive\n",
        "\n",
        "https://github.com/colinmcnamara/austin_langchain/blob/main/labs/sample.vars.env\n",
        "\n",
        "\n"
      ],
      "metadata": {
        "id": "-fDUT05Y8z6j"
      }
    },
    {
      "cell_type": "code",
      "source": [
        "!pip install -q colab_env"
      ],
      "metadata": {
        "id": "aBNVEix8j8XI",
        "colab": {
          "base_uri": "https://localhost:8080/"
        },
        "outputId": "9810921a-aa25-4831-8b63-4b46d8805c7b"
      },
      "execution_count": 2,
      "outputs": [
        {
          "output_type": "stream",
          "name": "stdout",
          "text": [
            "  Preparing metadata (setup.py) ... \u001b[?25l\u001b[?25hdone\n",
            "  Building wheel for colab_env (setup.py) ... \u001b[?25l\u001b[?25hdone\n"
          ]
        }
      ]
    },
    {
      "cell_type": "code",
      "source": [
        "import colab_env\n",
        "import langchain\n",
        "import openai\n",
        "import os"
      ],
      "metadata": {
        "id": "66jDgf-rXmvk",
        "colab": {
          "base_uri": "https://localhost:8080/"
        },
        "outputId": "aef2e0e0-7445-4815-9a73-18940e544c54"
      },
      "execution_count": 3,
      "outputs": [
        {
          "output_type": "stream",
          "name": "stdout",
          "text": [
            "Mounted at /content/gdrive\n"
          ]
        }
      ]
    },
    {
      "cell_type": "code",
      "source": [
        "openai_api_key=os.environ['OPENAI_API_KEY']"
      ],
      "metadata": {
        "id": "8WsfvyC1YC96"
      },
      "execution_count": 4,
      "outputs": []
    },
    {
      "cell_type": "markdown",
      "source": [
        "# Connect to LangSmith"
      ],
      "metadata": {
        "id": "3fsO7V1v4uIk"
      }
    },
    {
      "cell_type": "code",
      "source": [
        "# Connect to langsmith\n",
        "# Connect this notebook to langsmith\n",
        "\n",
        "import os\n",
        "\n",
        "# connect notebook to langsmith\n",
        "os.environ['LANGCHAIN_TRACING_V2'] = 'true'\n",
        "os.environ['LANGCHAIN_ENDPOINT'] = 'https://api.smith.langchain.com'\n",
        "\n",
        "# This key is sourced from vars.env\n",
        "# os.environ['LANGCHAIN_API_KEY'] = '<your-api-key>'  # Uncomment and replace <your-api-key> with your actual API key\n",
        "\n",
        "os.environ['LANGCHAIN_PROJECT'] = 'default_project'\n",
        "\n",
        "# To verify, you can print the variables\n",
        "print(os.environ.get('LANGCHAIN_TRACING_V2'))\n",
        "print(os.environ.get('LANGCHAIN_ENDPOINT'))\n",
        "#print(os.environ.get('LANGCHAIN_API_KEY'))  # Uncomment if you want to print your API key (be careful with sharing your notebook)\n",
        "print(os.environ.get('LANGCHAIN_PROJECT'))\n"
      ],
      "metadata": {
        "id": "_Te-jO7K6gZr",
        "colab": {
          "base_uri": "https://localhost:8080/"
        },
        "outputId": "0a3e63ca-a6a8-400c-b35b-40b55b0424c9"
      },
      "execution_count": 5,
      "outputs": [
        {
          "output_type": "stream",
          "name": "stdout",
          "text": [
            "true\n",
            "https://api.smith.langchain.com\n",
            "default_project\n"
          ]
        }
      ]
    }
  ]
}