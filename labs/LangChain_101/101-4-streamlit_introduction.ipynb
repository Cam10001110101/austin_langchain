{
  "cells": [
    {
      "cell_type": "markdown",
      "metadata": {},
      "source": [
        "<a href=\"https://colab.research.google.com/github/colinmcnamara/austin_langchain/blob/main/labs/LangChain_101/101-4-streamlit_introduction.ipynb\" target=\"_parent\"><img src=\"https://colab.research.google.com/assets/colab-badge.svg\" alt=\"Open In Colab\"/></a>"
      ]
    },
    {
      "cell_type": "markdown",
      "metadata": {
        "id": "vmPpMn28TcGE"
      },
      "source": [
        "# Streamlit Introduction\n",
        "\n",
        "Streamlit is a popular choice among Langchain enthusiasts because of how easy it makes creating amazing UIs using just python!\n",
        "\n",
        "This tutorial will guide you through creating a simple Streamlit app.\n",
        "\n",
        "The [Main Concepts](https://docs.streamlit.io/library/get-started/main-concepts) section of the documentation is a great resource to reference"
      ]
    },
    {
      "cell_type": "markdown",
      "metadata": {
        "id": "GMBIcMtuV0xL"
      },
      "source": [
        "## Install Pre-requisite Packages"
      ]
    },
    {
      "cell_type": "code",
      "execution_count": null,
      "metadata": {},
      "outputs": [],
      "source": [
        "%pip install streamlit"
      ]
    },
    {
      "cell_type": "markdown",
      "metadata": {},
      "source": [
        "## Create a Simple Streamlit App\n",
        "\n",
        "This is a simple app with just a title, header, text, and some content appended\n",
        "\n",
        "`st.write` displays a variety of content types like text, numbers, data, and more. It's versatile and automatically formats content for you."
      ]
    },
    {
      "cell_type": "code",
      "execution_count": null,
      "metadata": {},
      "outputs": [],
      "source": [
        "%%writefile streamlit_app.py\n",
        "import streamlit as st\n",
        "import pandas\n",
        "\n",
        "# Add a page title\n",
        "st.title('Simple Streamlit App')\n",
        "\n",
        "# Adding Text\n",
        "st.header('Adding Text')\n",
        "st.text('This is some example text.')\n",
        "\n",
        "# Add some content to the page\n",
        "st.write('Hello World')\n",
        "number = 10\n",
        "st.write('this is my number:', number)\n",
        "\n",
        "# Streamlit automatically applies st.write() to variables and litterals in your code\n",
        "# This is the same as st.write('this is my number:', number)\n",
        "'this is my number:', number"
      ]
    },
    {
      "cell_type": "markdown",
      "metadata": {},
      "source": [
        "Running the last cell saves our app in `streamlit_app.py`. Skip to **Running a Streamlit App** to see the output UI."
      ]
    },
    {
      "cell_type": "markdown",
      "metadata": {},
      "source": [
        "## Making Our Streamlit App Interactive"
      ]
    },
    {
      "cell_type": "code",
      "execution_count": null,
      "metadata": {},
      "outputs": [],
      "source": [
        "%%writefile streamlit_app.py\n",
        "import streamlit as st\n",
        "\n",
        "# The basic structure of a Streamlit app\n",
        "st.title('Streamlit Tutorial')\n",
        "\n",
        "# Adding text\n",
        "st.header('Adding Text')\n",
        "st.text('This is some example text.')\n",
        "\n",
        "# Adding input controls\n",
        "st.header('Input Controls')\n",
        "\n",
        "# Text input\n",
        "user_input = st.text_input('Enter your name:')\n",
        "st.write(f'Your name is {user_input}')\n",
        "\n",
        "# Checkbox\n",
        "if st.checkbox('I agree'):\n",
        "    st.write('Thank you for agreeing!')\n",
        "\n",
        "# Adding a sidebar\n",
        "st.sidebar.header('Sidebar')\n",
        "user_message = st.sidebar.text_area('Leave a message here:')\n",
        "st.sidebar.button('Submit')\n",
        "\n",
        "# Display the user message in the sidebar\n",
        "if user_message:\n",
        "    st.sidebar.write('You wrote:', user_message)"
      ]
    },
    {
      "cell_type": "markdown",
      "metadata": {},
      "source": [
        "## Session State"
      ]
    },
    {
      "cell_type": "markdown",
      "metadata": {},
      "source": [
        "In Streamlit, the application is server-rendered, which means that the Python script is executed server side.\n",
        "\n",
        "When you interact with the app, such as clicking a button or entering text, Streamlit reruns the entire script and re-renders only the components that changed.\n",
        "\n",
        "The `session_state` object is used to persist \"state\" across reruns, allowing us to interact with our app.\n",
        "\n",
        "Check out the Streamlit [Session State Documentation](https://docs.streamlit.io/library/api-reference/session-state) for more info"
      ]
    },
    {
      "cell_type": "code",
      "execution_count": null,
      "metadata": {},
      "outputs": [],
      "source": [
        "%%writefile streamlit_app.py\n",
        "import streamlit as st\n",
        "\n",
        "# Title for the app\n",
        "st.title('Streamlit Session State Tutorial')\n",
        "\n",
        "# Initialize session state variables if they don't exist\n",
        "if 'counter' not in st.session_state:\n",
        "    st.session_state['counter'] = 0\n",
        "\n",
        "# Can also use dot notation: st.session_state['text'] is the same as st.session_state.text\n",
        "if 'text' not in st.session_state:\n",
        "    st.session_state.text = ''\n",
        "\n",
        "# Can also initialize state in your widgets with 'key' argument\n",
        "st.text_input('Enter your name', key='name')\n",
        "\n",
        "# Increment counter function\n",
        "def increment_counter():\n",
        "    st.session_state.counter += 1\n",
        "\n",
        "# Update text function\n",
        "def update_text(input_text):\n",
        "    st.session_state.text = input_text\n",
        "\n",
        "# Delete state function\n",
        "def delete_state():\n",
        "    if 'counter' in st.session_state:\n",
        "        del st.session_state.counter\n",
        "    if 'text' in st.session_state:\n",
        "        del st.session_state.text\n",
        "    if 'name' in st.session_state:\n",
        "        del st.session_state.name\n",
        "\n",
        "# Input to update the text\n",
        "input_text = st.text_input('Enter some text', value='')\n",
        "\n",
        "# Button to increment the counter\n",
        "st.button('Increment Counter', on_click=increment_counter)\n",
        "\n",
        "# Button to update the text\n",
        "# We use an if statement here so that update_text(input_text) is only called when the button is clicked\n",
        "if st.button('Update Text'):\n",
        "    update_text(input_text)\n",
        "\n",
        "st.header('Our Session Sate')\n",
        "st.write(f\"Current Counter Value: {st.session_state.counter}\")\n",
        "st.write(f\"Current Text: {st.session_state.text}\")\n",
        "st.write(f\"Hello, {st.session_state.name}!\")\n",
        "\n",
        "st.button('Delete State', on_click=delete_state)\n",
        "\n",
        "# Display the session state object. Useful for when you want to know what is currently in the session state\n",
        "st.session_state\n",
        "\n",
        "# Explanation\n",
        "st.markdown(\"\"\"\n",
        "    ## Explanation\n",
        "    - The **counter** shows a simple integer value that can be incremented.\n",
        "    - **text** and **name** shows how strings can be updated and preserved.\n",
        "    - The **Delete State** button shows how to delete specific session state variables.\n",
        "\n",
        "    The `session_state` is particularly useful for:\n",
        "\n",
        "    - Storing user inputs\n",
        "    - Saving temporary app state\n",
        "    - Store and share data between different parts of your app\n",
        "\"\"\")"
      ]
    },
    {
      "cell_type": "markdown",
      "metadata": {},
      "source": [
        "Running the last cell saves our updated app in `streamlit_app.py`, overwriting the script we had before. Skip to **Running a Streamlit App** to see the output UI."
      ]
    },
    {
      "cell_type": "markdown",
      "metadata": {},
      "source": [
        "## Caching"
      ]
    },
    {
      "cell_type": "code",
      "execution_count": null,
      "metadata": {},
      "outputs": [],
      "source": [
        "%%writefile streamlit_app.py\n",
        "import streamlit as st\n",
        "import time\n",
        "\n",
        "# You would typically use st.cache_resource decorator for caching “resources\" that should be available globally across all users, sessions, and reruns\n",
        "# use st.cache_resource to cache language models\n",
        "@st.cache_resource\n",
        "def expensive_computation(number):\n",
        "    time.sleep(3)  # This makes the function take 3 seconds to run so we know that result is being computed\n",
        "    return number ** 2\n",
        "\n",
        "st.title('Streamlit Caching Example with st.cache_resource')\n",
        "\n",
        "number = st.number_input('Enter a number:', min_value=0, value=10)\n",
        "\n",
        "# Call the cached function\n",
        "result = expensive_computation(number)\n",
        "\n",
        "st.write(f\"The square of {number} is {result}\")"
      ]
    },
    {
      "cell_type": "markdown",
      "metadata": {},
      "source": [
        "Again, running the last cell saves our updated app in `streamlit_app.py`, overwriting the script we had before. Skip to **Running a Streamlit App** to see the output UI."
      ]
    },
    {
      "cell_type": "markdown",
      "metadata": {},
      "source": [
        "## Running a Streamlit app"
      ]
    },
    {
      "cell_type": "code",
      "execution_count": null,
      "metadata": {},
      "outputs": [],
      "source": [
        "!streamlit run streamlit_app.py &>/content/logs.txt &"
      ]
    },
    {
      "cell_type": "code",
      "execution_count": null,
      "metadata": {},
      "outputs": [],
      "source": [
        "!curl ipv4.icanhazip.com\n",
        "!echo \"Copy this IP into the webpage that opens below\""
      ]
    },
    {
      "cell_type": "code",
      "execution_count": null,
      "metadata": {},
      "outputs": [],
      "source": [
        "!npx localtunnel --port 8501"
      ]
    }
  ],
  "metadata": {
    "colab": {
      "provenance": []
    },
    "kernelspec": {
      "display_name": "Python 3",
      "name": "python3"
    },
    "language_info": {
      "codemirror_mode": {
        "name": "ipython",
        "version": 3
      },
      "file_extension": ".py",
      "mimetype": "text/x-python",
      "name": "python",
      "nbconvert_exporter": "python",
      "pygments_lexer": "ipython3",
      "version": "3.11.5"
    }
  },
  "nbformat": 4,
  "nbformat_minor": 0
}
