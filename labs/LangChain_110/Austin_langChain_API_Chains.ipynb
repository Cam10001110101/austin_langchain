{
  "nbformat": 4,
  "nbformat_minor": 0,
  "metadata": {
    "colab": {
      "provenance": []
    },
    "kernelspec": {
      "name": "python3",
      "display_name": "Python 3 (ipykernel)",
      "language": "python"
    },
    "language_info": {
      "name": "python"
    }
  },
  "cells": [
    {
      "cell_type": "markdown",
      "source": [
        "# LangChain API Chain Integration Demo\n",
        "\n",
        "This demo was orignially presented during the Austin LangChain User Group meetup on September 11th 2024.\n",
        "\n",
        "The demo shows a simple LangGraph integration with a 3rd party API.\n",
        "\n",
        "##Links:\n",
        "presentation recording TODO\n",
        "\n",
        "*   Presentation\n",
        "*   [LangChain Interacting with APIs](https://python.langchain.com/v0.1/docs/use_cases/apis/)\n",
        "*   [LangChain APIChain (deprecated)](https://api.python.langchain.com/en/latest/chains/langchain.chains.api.base.APIChain.html)\n",
        "*   [LangSmith Trace](https://smith.langchain.com/public/86a0ceea-3eae-42ed-91cf-acc6ff9ffa5e/r)\n",
        "\n",
        "\n",
        "##Setup"
      ],
      "metadata": {
        "id": "EFK0UUura-FX"
      }
    },
    {
      "cell_type": "code",
      "source": [
        "%pip install --upgrade --quiet  pygithub langchain langchain-community langchain-openai langgraph"
      ],
      "metadata": {
        "id": "VmBiqcXkj8FA",
        "ExecuteTime": {
          "end_time": "2024-09-09T18:47:40.916090Z",
          "start_time": "2024-09-09T18:47:37.911758Z"
        }
      },
      "outputs": [],
      "execution_count": 11
    },
    {
      "cell_type": "code",
      "source": [
        "import os\n",
        "import requests\n",
        "from google.colab import userdata\n",
        "from langchain import PromptTemplate\n",
        "from langchain_openai import ChatOpenAI\n",
        "from typing import Annotated, Sequence, List, Dict\n",
        "from typing_extensions import TypedDict\n",
        "\n",
        "from langchain.chains.api.prompt import API_URL_PROMPT\n",
        "from langchain_community.agent_toolkits.openapi.toolkit import RequestsToolkit\n",
        "from langchain_community.utilities.requests import TextRequestsWrapper\n",
        "from langchain_core.messages import BaseMessage\n",
        "from langchain_core.prompts import ChatPromptTemplate\n",
        "from langchain_openai import ChatOpenAI\n",
        "from langchain_core.runnables import RunnableConfig\n",
        "from langgraph.graph import END, StateGraph\n",
        "from langgraph.graph.message import add_messages\n",
        "from langgraph.prebuilt.tool_node import ToolNode"
      ],
      "metadata": {
        "id": "YzlnbBDjutJj",
        "ExecuteTime": {
          "end_time": "2024-09-09T18:47:40.921812Z",
          "start_time": "2024-09-09T18:47:40.919362Z"
        }
      },
      "outputs": [],
      "execution_count": 12
    },
    {
      "cell_type": "markdown",
      "source": [
        "###Required Keys and environment variables\n",
        "\n",
        "Keys are stored in Colab Secrets for this demo and called using `userdata.get()`"
      ],
      "metadata": {
        "id": "ig5LZDmvjqKF"
      }
    },
    {
      "metadata": {
        "id": "DoyoRjgjN-ar"
      },
      "cell_type": "markdown",
      "source": [
        "###Set the environment variables"
      ]
    },
    {
      "cell_type": "code",
      "metadata": {
        "id": "__0A_VXaZv0J",
        "ExecuteTime": {
          "end_time": "2024-09-09T18:48:01.798308Z",
          "start_time": "2024-09-09T18:47:40.928063Z"
        }
      },
      "source": [
        "os.environ[\"OPENAI_API_KEY\"] = userdata.get(\"OPENAI_API_KEY\")\n",
        "os.environ[\"LANGCHAIN_API_KEY\"] = userdata.get(\"LANGCHAIN_API_KEY\")\n",
        "os.environ[\"LANGCHAIN_TRACING_V2\"] = \"true\"\n",
        "os.environ[\"LANGCHAIN_PROJECT\"] = \"atx_apichain_demo\"\n",
        "\n",
        "open_api_key = os.environ.get(\"OPEN_API_KEY\")\n",
        "langchain_api_key = os.environ.get(\"LANGCHAIN_API_KEY\")\n"
      ],
      "outputs": [],
      "execution_count": 13
    },
    {
      "cell_type": "markdown",
      "source": [
        "###Prepare the API Spec file  "
      ],
      "metadata": {
        "id": "t59ueHBhkeNO"
      }
    },
    {
      "cell_type": "code",
      "source": [
        "api_spec = \"\"\"\n",
        "openapi: 3.0.0\n",
        "\n",
        "info:\n",
        "  version: 1.0.0\n",
        "  title: xkcd\n",
        "  description: 'A webcomic of romance, sarcasm, math, and language.'\n",
        "\n",
        "servers:\n",
        "  - url: https://xkcd.com/\n",
        "    description: Official xkcd JSON interface\n",
        "\n",
        "paths:\n",
        "  # Retrieve the current comic\n",
        "  /info.0.json:\n",
        "    get:\n",
        "      # A list of tags to logical group operations by resources and any other\n",
        "      # qualifier.\n",
        "      tags:\n",
        "        - comic\n",
        "      description: Returns comic based on ID\n",
        "      summary: Find latest comic\n",
        "      # Unique identifier for the operation, tools and libraries may use the\n",
        "      # operationId to uniquely identify an operation.\n",
        "      operationId: getComic\n",
        "      responses:\n",
        "        '200':\n",
        "          description: Successfully returned a comic\n",
        "          content:\n",
        "            application/json:\n",
        "              schema:\n",
        "                # Relative reference to prevent duplicate schema definition.\n",
        "                $ref: '#/components/schemas/Comic'\n",
        "  # Retrieve a comic by ID\n",
        "  /{id}/info.0.json:\n",
        "    get:\n",
        "      tags:\n",
        "        - comic\n",
        "      description: Returns comic based on ID\n",
        "      summary: Find comic by ID\n",
        "      operationId: getComicById\n",
        "      parameters:\n",
        "        - name: id\n",
        "          in: path\n",
        "          required: true\n",
        "          schema:\n",
        "            type: integer\n",
        "      responses:\n",
        "        '200':\n",
        "          description: Successfully returned a commmic\n",
        "          content:\n",
        "            application/json:\n",
        "              schema:\n",
        "                $ref: '#/components/schemas/Comic'\n",
        "\n",
        "components:\n",
        "  schemas:\n",
        "    Comic:\n",
        "      type: object\n",
        "      properties:\n",
        "        month:\n",
        "          type: string\n",
        "        num:\n",
        "          type: integer\n",
        "        link:\n",
        "          type: string\n",
        "        year:\n",
        "          type: string\n",
        "        news:\n",
        "          type: string\n",
        "        safe_title:\n",
        "          type: string\n",
        "        transcript:\n",
        "          type: string\n",
        "        alt:\n",
        "          type: string\n",
        "        img:\n",
        "          type: string\n",
        "        title:\n",
        "          type: string\n",
        "        day:\n",
        "          type: string\n",
        "\"\"\""
      ],
      "metadata": {
        "id": "HRYcgalykwUP",
        "ExecuteTime": {
          "end_time": "2024-09-09T18:48:01.809768Z",
          "start_time": "2024-09-09T18:48:01.807393Z"
        }
      },
      "outputs": [],
      "execution_count": 14
    },
    {
      "cell_type": "markdown",
      "source": [
        "###Setup the LLM and LangChain toolkit\n",
        "Here we are using OpenAI's GPT-4o-mini model as recommended by the LangChain team."
      ],
      "metadata": {
        "id": "uH1LiCHynTWe"
      }
    },
    {
      "cell_type": "code",
      "source": [
        "llm = ChatOpenAI(model_name=\"gpt-4o-mini\", temperature=0)\n",
        "toolkit = RequestsToolkit(\n",
        "    requests_wrapper=TextRequestsWrapper(headers={}),\n",
        "    allow_dangerous_requests=True,\n",
        "    open_api_key=open_api_key\n",
        ")\n",
        "\n",
        "tools = toolkit.get_tools()"
      ],
      "metadata": {
        "id": "y5HS2kx6n-_e",
        "ExecuteTime": {
          "end_time": "2024-09-09T18:48:01.869050Z",
          "start_time": "2024-09-09T18:48:01.834477Z"
        }
      },
      "outputs": [],
      "execution_count": 15
    },
    {
      "cell_type": "markdown",
      "source": [
        "###Setup LangChain Chain\n",
        "Notice the use of `API_URL_PROMPT` which is a template prompt built into [LangChain tools](https://github.com/langchain-ai/langchain/blob/master/libs/langchain/langchain/chains/api/prompt.py) to help you with constructing API URLs.\n"
      ],
      "metadata": {
        "id": "OWi-giSyoByx"
      }
    },
    {
      "cell_type": "code",
      "source": [
        "api_request_chain = (\n",
        "    API_URL_PROMPT.partial(api_docs=api_spec)\n",
        "    | llm.bind_tools(tools, tool_choice=\"any\")\n",
        ")"
      ],
      "metadata": {
        "id": "m6nUXR1qoHZ0",
        "ExecuteTime": {
          "end_time": "2024-09-09T18:48:01.937732Z",
          "start_time": "2024-09-09T18:48:01.872704Z"
        }
      },
      "outputs": [],
      "execution_count": 16
    },
    {
      "cell_type": "markdown",
      "source": [
        "### Create Chain State\n"
      ],
      "metadata": {
        "id": "uT72Dv8Woyyb"
      }
    },
    {
      "cell_type": "code",
      "source": [
        "class ChainState(TypedDict):\n",
        "    \"\"\"LangGraph state.\"\"\"\n",
        "    messages: Annotated[Sequence[BaseMessage], add_messages]"
      ],
      "metadata": {
        "id": "OTuItSRgpDec",
        "ExecuteTime": {
          "end_time": "2024-09-09T18:48:01.944805Z",
          "start_time": "2024-09-09T18:48:01.943046Z"
        }
      },
      "outputs": [],
      "execution_count": 17
    },
    {
      "cell_type": "markdown",
      "source": [
        "### Graph Nodes"
      ],
      "metadata": {
        "id": "ATJ3ByhwpLzm"
      }
    },
    {
      "metadata": {
        "ExecuteTime": {
          "end_time": "2024-09-09T18:48:01.952620Z",
          "start_time": "2024-09-09T18:48:01.950491Z"
        },
        "id": "KGzfAL-FN-at"
      },
      "cell_type": "code",
      "source": [
        "async def acall_request_chain(state: ChainState, config: RunnableConfig):\n",
        "    last_message = state[\"messages\"][-1]\n",
        "    response = await api_request_chain.ainvoke(\n",
        "        {\"question\": last_message.content}, config\n",
        "    )\n",
        "    return {\"messages\": [response]}\n",
        "\n",
        "async def acall_model(state: ChainState, config: RunnableConfig):\n",
        "    response = await llm.ainvoke(state[\"messages\"], config)\n",
        "    return {\"messages\": [response]}"
      ],
      "outputs": [],
      "execution_count": 18
    },
    {
      "metadata": {
        "id": "uq_lng-jN-at"
      },
      "cell_type": "markdown",
      "source": [
        "### Build the Graph"
      ]
    },
    {
      "metadata": {
        "ExecuteTime": {
          "end_time": "2024-09-09T18:48:01.960474Z",
          "start_time": "2024-09-09T18:48:01.957714Z"
        },
        "id": "JRbVrzk6N-at"
      },
      "cell_type": "code",
      "source": [
        "graph_builder = StateGraph(ChainState)\n",
        "graph_builder.add_node(\"call_tool\", acall_request_chain)\n",
        "graph_builder.add_node(\"execute_tool\", ToolNode(tools))\n",
        "graph_builder.add_node(\"call_model\", acall_model)\n",
        "graph_builder.set_entry_point(\"call_tool\")\n",
        "graph_builder.add_edge(\"call_tool\", \"execute_tool\")\n",
        "graph_builder.add_edge(\"execute_tool\", \"call_model\")\n",
        "graph_builder.add_edge(\"call_model\", END)\n",
        "chain = graph_builder.compile()"
      ],
      "outputs": [],
      "execution_count": 19
    },
    {
      "metadata": {
        "id": "14PIzUxbN-at"
      },
      "cell_type": "markdown",
      "source": [
        "### Run the Chain"
      ]
    },
    {
      "metadata": {
        "ExecuteTime": {
          "end_time": "2024-09-09T18:48:04.668245Z",
          "start_time": "2024-09-09T18:48:01.966642Z"
        },
        "colab": {
          "base_uri": "https://localhost:8080/"
        },
        "id": "EvjWdt0ZN-at",
        "outputId": "ad6cdbb0-1124-441b-9998-beb349305e83"
      },
      "cell_type": "code",
      "source": [
        "example_query = \"what is the title, date created and direct link of the latest XKCD comic?\"\n",
        "#example_query = \"what date was the 1000th comic released?\"\n",
        "\n",
        "events = chain.astream(\n",
        "    {\"messages\": [(\"user\", example_query)]},\n",
        "    stream_mode=\"values\",\n",
        ")\n",
        "async for event in events:\n",
        "    event[\"messages\"][-1].pretty_print()"
      ],
      "outputs": [
        {
          "output_type": "stream",
          "name": "stdout",
          "text": [
            "================================\u001b[1m Human Message \u001b[0m=================================\n",
            "\n",
            "what is the title, date created and direct link of the latest XKCD comic?\n",
            "==================================\u001b[1m Ai Message \u001b[0m==================================\n",
            "Tool Calls:\n",
            "  requests_get (call_GvLfiEe1qPGdE02YGmo2nyFY)\n",
            " Call ID: call_GvLfiEe1qPGdE02YGmo2nyFY\n",
            "  Args:\n",
            "    url: https://xkcd.com/info.0.json\n",
            "=================================\u001b[1m Tool Message \u001b[0m=================================\n",
            "Name: requests_get\n",
            "\n",
            "{\"month\": \"9\", \"num\": 2983, \"link\": \"\", \"year\": \"2024\", \"news\": \"\", \"safe_title\": \"Monocaster\", \"transcript\": \"\", \"alt\": \"My competitors say the tiny single tiny caster is unsafe, unstable, and offers no advantages over traditional designs, to which I say: wow, why are you guys so mean? I thought we were friends!\", \"img\": \"https://imgs.xkcd.com/comics/monocaster.png\", \"title\": \"Monocaster\", \"day\": \"9\"}\n",
            "==================================\u001b[1m Ai Message \u001b[0m==================================\n",
            "\n",
            "The latest XKCD comic is titled **\"Monocaster\"**. It was created on **September 9, 2024**. You can view it [here](https://xkcd.com/2983/). \n",
            "\n",
            "![Monocaster](https://imgs.xkcd.com/comics/monocaster.png)\n",
            "\n",
            "The alt text reads: \"My competitors say the tiny single tiny caster is unsafe, unstable, and offers no advantages over traditional designs, to which I say: wow, why are you guys so mean? I thought we were friends!\"\n"
          ]
        }
      ],
      "execution_count": 20
    },
    {
      "cell_type": "markdown",
      "source": [
        "## Integrate with Search\n",
        "\n",
        "now we want to expand on the limited API calls from XKCD to improve usability by utilizing GPT-4o to curate a list of popular comics with the option to filter on topic or genera.\n",
        "\n",
        "\n",
        "\n"
      ],
      "metadata": {
        "id": "BuIKgG4Woixk"
      }
    },
    {
      "cell_type": "markdown",
      "source": [
        "### Add LLM query"
      ],
      "metadata": {
        "id": "fCuQn-K-rUwJ"
      }
    },
    {
      "cell_type": "code",
      "source": [
        "import re\n",
        "\n",
        "def parse_ai_response(response_content: str) -> List[int]:\n",
        "    # Extract the part that looks like a Python list\n",
        "    match = re.search(r'\\[[\\s\\S]*?\\]', response_content)\n",
        "    if not match:\n",
        "        raise ValueError(\"Could not find a valid list in the AI response\")\n",
        "\n",
        "    list_str = match.group(0)\n",
        "\n",
        "    # Extract numbers from the list\n",
        "    numbers = re.findall(r'\\d+', list_str)\n",
        "\n",
        "    # Convert to integers\n",
        "    return [int(num) for num in numbers]\n",
        "\n",
        "\n",
        "def curate_popular_xkcd_comics(num_comics: int = 5, catagory: str = \"\") -> List[Dict]:\n",
        "    llm = ChatOpenAI(model_name=\"gpt-4o-mini\", temperature=0.2)\n",
        "\n",
        "    prompt = f\"\"\"As an AI with knowledge about XKCD comics, please provide an ordered list of the top {num_comics} most popular {catagory} XKCD comics.\n",
        "    Include only the comic numbers in a Python list format. For example:\n",
        "\n",
        "    top_xkcd_comics = [303, 327, 353]\n",
        "    \"\"\"\n",
        "\n",
        "    response = llm.invoke(prompt)\n",
        "\n",
        "    # Parse the response to extract the comic numbers\n",
        "    return parse_ai_response(response.content)\n"
      ],
      "metadata": {
        "id": "qgbewHv1UMaT"
      },
      "execution_count": 21,
      "outputs": []
    },
    {
      "cell_type": "code",
      "source": [
        "resp = curate_popular_xkcd_comics(5, \"Programming\")\n",
        "print(resp)"
      ],
      "metadata": {
        "colab": {
          "base_uri": "https://localhost:8080/"
        },
        "id": "l9uM0IvVrJkx",
        "outputId": "f6ee4912-8ba8-4df5-9827-b1db59b2aa8e"
      },
      "execution_count": 22,
      "outputs": [
        {
          "output_type": "stream",
          "name": "stdout",
          "text": [
            "[353, 303, 927, 1957, 1340]\n"
          ]
        }
      ]
    },
    {
      "cell_type": "markdown",
      "source": [
        "### Update Chain State with query results"
      ],
      "metadata": {
        "id": "IHI1-9fTV1vg"
      }
    },
    {
      "cell_type": "code",
      "source": [
        "class ChainState(TypedDict):\n",
        "    \"\"\"LangGraph state.\"\"\"\n",
        "    messages: Annotated[Sequence[BaseMessage], add_messages]\n",
        "    popular_comics: List[int]"
      ],
      "metadata": {
        "ExecuteTime": {
          "end_time": "2024-09-09T18:48:01.944805Z",
          "start_time": "2024-09-09T18:48:01.943046Z"
        },
        "id": "d9EYCTf-Vtqu"
      },
      "outputs": [],
      "execution_count": 23
    },
    {
      "cell_type": "markdown",
      "source": [
        "### Add Nodes"
      ],
      "metadata": {
        "id": "FQpVLz87rd6A"
      }
    },
    {
      "cell_type": "markdown",
      "source": [
        "Add node executable `curate_comics` and update `acall_model` with LLM results."
      ],
      "metadata": {
        "id": "fd_RP9bz0det"
      }
    },
    {
      "cell_type": "code",
      "source": [
        "async def curate_comics(state: ChainState, config: RunnableConfig):\n",
        "    popular_comics = curate_popular_xkcd_comics()\n",
        "    return {\"popular_comics\": popular_comics}"
      ],
      "metadata": {
        "id": "UQWMXVMVV05M"
      },
      "execution_count": 24,
      "outputs": []
    },
    {
      "cell_type": "code",
      "source": [
        "from langchain.schema import SystemMessage\n",
        "\n",
        "async def acall_model(state: ChainState, config: RunnableConfig):\n",
        "    messages = state[\"messages\"]\n",
        "    popular_comics = state[\"popular_comics\"]\n",
        "    response = await llm.ainvoke(messages, config)\n",
        "    return {\"messages\": [response]}"
      ],
      "metadata": {
        "id": "ynxry-x7WlNp"
      },
      "execution_count": 25,
      "outputs": []
    },
    {
      "cell_type": "markdown",
      "source": [
        "Update `acall_request_chain` to use the output list from `curate_comics`"
      ],
      "metadata": {
        "id": "3Z5f_VGn3wjy"
      }
    },
    {
      "cell_type": "code",
      "source": [
        "async def acall_request_chain(state: ChainState, config: RunnableConfig):\n",
        "    last_message = state[\"popular_comics\"]\n",
        "    response = await api_request_chain.ainvoke(\n",
        "        {\"question\": last_message}, config\n",
        "    )\n",
        "    return {\"messages\": [response]}"
      ],
      "metadata": {
        "id": "_TVF0p2m3usO"
      },
      "execution_count": 26,
      "outputs": []
    },
    {
      "cell_type": "markdown",
      "source": [
        "### Update Graph"
      ],
      "metadata": {
        "id": "jDKRtf8iWPMp"
      }
    },
    {
      "cell_type": "code",
      "source": [
        "graph_builder = StateGraph(ChainState)\n",
        "graph_builder.add_node(\"curate_comics\", curate_comics)\n",
        "graph_builder.add_node(\"call_tool\", acall_request_chain)\n",
        "graph_builder.add_node(\"execute_tool\", ToolNode(tools))\n",
        "graph_builder.add_node(\"call_model\", acall_model)\n",
        "graph_builder.set_entry_point(\"curate_comics\")\n",
        "graph_builder.add_edge(\"curate_comics\", \"call_tool\")\n",
        "graph_builder.add_edge(\"call_tool\", \"execute_tool\")\n",
        "graph_builder.add_edge(\"execute_tool\", \"call_model\")\n",
        "graph_builder.add_edge(\"call_model\", END)\n",
        "chain = graph_builder.compile()"
      ],
      "metadata": {
        "id": "ft9gKryQWSk-"
      },
      "execution_count": 27,
      "outputs": []
    },
    {
      "cell_type": "markdown",
      "source": [
        "# Query"
      ],
      "metadata": {
        "id": "FrbCAnf1bGyY"
      }
    },
    {
      "cell_type": "code",
      "source": [
        "example_query = \"provide a list of the top 5 most popular XKCD comics about timetravel. Include a link to each and the date they were created?\"\n",
        "\n",
        "events = chain.astream(\n",
        "    {\"messages\": [(\"user\", example_query)], \"popular_comics\": []},\n",
        "    stream_mode=\"values\",\n",
        ")\n",
        "\n",
        "async for event in events:\n",
        "    event[\"messages\"][-1].pretty_print()"
      ],
      "metadata": {
        "colab": {
          "base_uri": "https://localhost:8080/"
        },
        "id": "N-h-G1uwXPPO",
        "outputId": "1cd131d9-3009-42d9-bea7-bd036278daa1"
      },
      "execution_count": 28,
      "outputs": [
        {
          "output_type": "stream",
          "name": "stdout",
          "text": [
            "================================\u001b[1m Human Message \u001b[0m=================================\n",
            "\n",
            "provide a list of the top 5 most popular XKCD comics about timetravel. Include a link to each and the date they were created?\n",
            "================================\u001b[1m Human Message \u001b[0m=================================\n",
            "\n",
            "provide a list of the top 5 most popular XKCD comics about timetravel. Include a link to each and the date they were created?\n",
            "==================================\u001b[1m Ai Message \u001b[0m==================================\n",
            "Tool Calls:\n",
            "  requests_get (call_AdkmKPw9XduiprawHU0McDN0)\n",
            " Call ID: call_AdkmKPw9XduiprawHU0McDN0\n",
            "  Args:\n",
            "    url: https://xkcd.com/353/info.0.json\n",
            "  requests_get (call_gJSFU4guGEhzuxNWoo1YmBOo)\n",
            " Call ID: call_gJSFU4guGEhzuxNWoo1YmBOo\n",
            "  Args:\n",
            "    url: https://xkcd.com/303/info.0.json\n",
            "  requests_get (call_r7nSoHAQGHN5kKoRtUYEURI0)\n",
            " Call ID: call_r7nSoHAQGHN5kKoRtUYEURI0\n",
            "  Args:\n",
            "    url: https://xkcd.com/327/info.0.json\n",
            "  requests_get (call_a0wHTjWYDTePuVnCkW0lLxYM)\n",
            " Call ID: call_a0wHTjWYDTePuVnCkW0lLxYM\n",
            "  Args:\n",
            "    url: https://xkcd.com/162/info.0.json\n",
            "  requests_get (call_iX9OZVnZgqKJW4suqW02GUrv)\n",
            " Call ID: call_iX9OZVnZgqKJW4suqW02GUrv\n",
            "  Args:\n",
            "    url: https://xkcd.com/103/info.0.json\n",
            "=================================\u001b[1m Tool Message \u001b[0m=================================\n",
            "Name: requests_get\n",
            "\n",
            "{\"month\": \"5\", \"num\": 103, \"link\": \"\", \"year\": \"2006\", \"news\": \"\", \"safe_title\": \"Moral Relativity\", \"transcript\": \"[[A graph, rationalization as a function of speed, increasing exponentially with an asymptote at c]]\\nRelated to moral relativism, it states that ethics become subjective only when you approach the speed of light.  That is, it's okay to be self-serving, steal, and murder as long as you're going really, really fast.\\n(Note:  This is why rap sounds better on the highway at 90 mph)\\n{{It's science!}}\", \"alt\": \"It's science!\", \"img\": \"https://imgs.xkcd.com/comics/moral_relativity.jpg\", \"title\": \"Moral Relativity\", \"day\": \"17\"}\n",
            "==================================\u001b[1m Ai Message \u001b[0m==================================\n",
            "\n",
            "Here are five popular XKCD comics related to time travel, along with their creation dates and links:\n",
            "\n",
            "1. **[Python](https://xkcd.com/353/)**\n",
            "   - **Date Created:** December 5, 2007\n",
            "   - ![Python](https://imgs.xkcd.com/comics/python.png)\n",
            "   - **Alt Text:** I wrote 20 short programs in Python yesterday. It was wonderful. Perl, I'm leaving you.\n",
            "\n",
            "2. **[Compiling](https://xkcd.com/303/)**\n",
            "   - **Date Created:** August 15, 2007\n",
            "   - ![Compiling](https://imgs.xkcd.com/comics/compiling.png)\n",
            "   - **Alt Text:** 'Are you stealing those LCDs?' 'Yeah, but I'm doing it while my code compiles.'\n",
            "\n",
            "3. **[Exploits of a Mom](https://xkcd.com/327/)**\n",
            "   - **Date Created:** October 10, 2007\n",
            "   - ![Exploits of a Mom](https://imgs.xkcd.com/comics/exploits_of_a_mom.png)\n",
            "   - **Alt Text:** Her daughter is named Help I'm trapped in a driver's license factory.\n",
            "\n",
            "4. **[Angular Momentum](https://xkcd.com/162/)**\n",
            "   - **Date Created:** September 25, 2006\n",
            "   - ![Angular Momentum](https://imgs.xkcd.com/comics/angular_momentum.jpg)\n",
            "   - **Alt Text:** With reasonable assumptions about latitude and body shape, how much time might she gain them? Note: whatever the answer, sunrise always comes too soon. (Also, is it worth it if she throws up?)\n",
            "\n",
            "5. **[Moral Relativity](https://xkcd.com/103/)**\n",
            "   - **Date Created:** May 17, 2006\n",
            "   - ![Moral Relativity](https://imgs.xkcd.com/comics/moral_relativity.jpg)\n",
            "   - **Alt Text:** It's science!\n",
            "\n",
            "These comics explore various humorous and thought-provoking aspects of time travel and related concepts.\n"
          ]
        }
      ]
    }
  ]
}