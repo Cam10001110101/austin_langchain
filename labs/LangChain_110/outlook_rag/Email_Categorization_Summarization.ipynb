{
 "cells": [
  {
   "cell_type": "markdown",
   "id": "aa63697c9092b5e1",
   "metadata": {},
   "source": [
    "# Email Categorization and Summarization\n"
   ]
  },
  {
   "cell_type": "markdown",
   "id": "d6e9c06fa05b314b",
   "metadata": {},
   "source": [
    "\n",
    "### Install dependencies"
   ]
  },
  {
   "cell_type": "code",
   "execution_count": null,
   "id": "initial_id",
   "metadata": {
    "ExecuteTime": {
     "end_time": "2024-10-02T03:36:08.833944Z",
     "start_time": "2024-10-02T03:36:05.062687Z"
    }
   },
   "outputs": [],
   "source": [
    "%pip install -r requirements.txt"
   ]
  },
  {
   "cell_type": "markdown",
   "id": "c60cfed24707c55c",
   "metadata": {},
   "source": [
    "### List Outlook Folders"
   ]
  },
  {
   "cell_type": "code",
   "execution_count": null,
   "id": "66911c8b2d260786",
   "metadata": {
    "ExecuteTime": {
     "end_time": "2024-10-02T03:53:47.049797Z",
     "start_time": "2024-10-02T03:53:44.018168Z"
    }
   },
   "outputs": [],
   "source": [
    "import win32com.client\n",
    "\n",
    "outlook = win32com.client.Dispatch(\"Outlook.Application\").GetNamespace(\"MAPI\")\n",
    "\n",
    "def list_folders(parent_folder, indent=\"\"):\n",
    "    for folder in parent_folder.Folders:\n",
    "        print(f\"{indent}Folder: {folder.Name}, EntryID: {folder.EntryID}, Class: {folder.Class}\")\n",
    "        # Recursively list subfolders\n",
    "        list_folders(folder, indent + \"  \")\n",
    "\n",
    "def get_folder_by_id(entra_id):\n",
    "    return outlook.GetFolderFromID(entra_id)\n",
    "\n",
    "\n",
    "print(\"Getting email folders...\")\n",
    "\n",
    "# Get the root folder\n",
    "root_folder = outlook.Folders\n",
    "\n",
    "# List all folders\n",
    "for account in root_folder:\n",
    "    print(f\"Account: {account.Name}\")\n",
    "    list_folders(account)\n"
   ]
  },
  {
   "cell_type": "markdown",
   "id": "2fc6edb9c26607f1",
   "metadata": {},
   "source": [
    "### Get Configuration Values"
   ]
  },
  {
   "cell_type": "code",
   "execution_count": null,
   "id": "15c33cb1c5af2d1d",
   "metadata": {
    "ExecuteTime": {
     "end_time": "2024-10-01T12:27:02.665930Z",
     "start_time": "2024-10-01T12:27:02.647093Z"
    }
   },
   "outputs": [],
   "source": [
    "import os\n",
    "from dotenv import load_dotenv\n",
    "\n",
    "# Load environment variables from .env file\n",
    "load_dotenv()\n",
    "\n",
    "\n",
    "class Config:\n",
    "    # ChromaDB\n",
    "    CHROMA_DB_PATH = os.getenv('CHROMA_DB_PATH')\n",
    "    CHROMA_PERSIST_DIR = os.getenv('CHROMA_PERSIST_DIR')\n",
    "\n",
    "    # Embeddings\n",
    "    EMBEDDING_BASE_URL = os.getenv('EMBEDDING_BASE_URL')\n",
    "    EMBEDDING_API = os.getenv('EMBEDDING_API')\n",
    "    EMBEDDING_MODEL = os.getenv('EMBEDDING_MODEL')\n",
    "\n",
    "    # LLM\n",
    "    LLM_BASE_URL = os.getenv('LLM_BASE_URL')\n",
    "    LLM_MODEL = os.getenv('LLM_MODEL')\n",
    "    LLM_TEMPERATURE = float(os.getenv('LLM_TEMPERATURE'))\n",
    "    JSON_OUTPUT_PATH = os.getenv('JSON_OUTPUT_PATH')\n",
    "\n",
    "    # Email retrieval folders\n",
    "    EMAIL_RETRIEVAL_FOLDERS = [int(item) for item in os.getenv('EMAIL_RETRIEVAL_FOLDER_IDS').split(',')]\n",
    "\n",
    "    # Folder categories and IDs\n",
    "    CATEGORIZE_FOLDER_ID = os.getenv('CATEGORIZE_FOLDER_IDS').split(',')\n",
    "    FOLDER_CATEGORIES = os.getenv('FOLDER_CATEGORIES').split(',')\n",
    "    FOLDER_CATEGORIES_DICT = dict(zip(FOLDER_CATEGORIES, CATEGORIZE_FOLDER_ID))\n",
    "    MOVE_EMAILS = os.getenv('MOVE_EMAILS').lower() == 'true'\n",
    "\n",
    "\n",
    "config = Config()"
   ]
  },
  {
   "cell_type": "markdown",
   "id": "8f8d7b250d530734",
   "metadata": {},
   "source": [
    "### Define Chat Model, Embedding Model, and Chains"
   ]
  },
  {
   "cell_type": "code",
   "execution_count": null,
   "id": "6ba25b7cdd1800c6",
   "metadata": {
    "ExecuteTime": {
     "end_time": "2024-10-01T12:27:04.534930Z",
     "start_time": "2024-10-01T12:27:02.795158Z"
    }
   },
   "outputs": [],
   "source": [
    "from langchain_community.embeddings import OllamaEmbeddings\n",
    "from langchain.chains.summarize import load_summarize_chain\n",
    "from langchain_ollama import ChatOllama\n",
    "from langchain_core.pydantic_v1 import BaseModel, Field\n",
    "\n",
    "# Load models and chains\n",
    "llm = ChatOllama(base_url=config.LLM_BASE_URL, model=config.LLM_MODEL, temperature=config.LLM_TEMPERATURE)\n",
    "embeddings = OllamaEmbeddings(base_url=config.LLM_BASE_URL, model=config.EMBEDDING_MODEL)\n",
    "summarize_chain = load_summarize_chain(llm, chain_type=\"map_reduce\")\n",
    "collection_name = \"categorize-emails\"\n",
    "\n",
    "# Classification categories\n",
    "categories_string = \", \".join(config.FOLDER_CATEGORIES)\n",
    "print(f\"Categories: {categories_string}\")\n",
    "\n",
    "# Schema for structured output\n",
    "class Email(BaseModel):\n",
    "    f\"\"\"This class represents an email\"\"\"\n",
    "\n",
    "    category: str = Field(description=f\"The classification category (must be one of: {categories_string})\")\n",
    "    subject: str = Field(description=\"The subject of the email\")\n",
    "    summary: str = Field(description=\"The summary of the email\")\n",
    "    action_item: str = Field(description=\"The action item of the email\")\n",
    "\n",
    "# Structured output classification chain\n",
    "classification_chain = llm.with_structured_output(Email)\n"
   ]
  },
  {
   "cell_type": "markdown",
   "id": "e3d2347969702afa",
   "metadata": {},
   "source": [
    "### Get Emails for Date Range"
   ]
  },
  {
   "cell_type": "code",
   "execution_count": null,
   "id": "a066f8a9652ae1e6",
   "metadata": {
    "ExecuteTime": {
     "end_time": "2024-10-01T12:27:06.305593Z",
     "start_time": "2024-10-01T12:27:04.548071Z"
    }
   },
   "outputs": [],
   "source": [
    "from datetime import datetime\n",
    "import win32com.client\n",
    "\n",
    "# Outlook instance\n",
    "outlook = win32com.client.Dispatch(\"Outlook.Application\").GetNamespace(\"MAPI\")\n",
    "\n",
    "def get_emails(folder_id, progress=None):\n",
    "    # Hardcode the start date and end date for testing\n",
    "    start_date_str = \"2024-09-26\"\n",
    "    end_date_str = \"2025-09-08\"\n",
    "    start_date = datetime.strptime(start_date_str, \"%Y-%m-%d\").date()\n",
    "    end_date = datetime.strptime(end_date_str, \"%Y-%m-%d\").date()\n",
    "\n",
    "    folder_name = get_folder_name(folder_id)\n",
    "    print(f\"Fetching emails from {folder_name}\")\n",
    "    try:\n",
    "        folder = outlook.GetDefaultFolder(folder_id)\n",
    "    except Exception as e:\n",
    "        print(f\"Error accessing Outlook: {e}\")\n",
    "        return []\n",
    "\n",
    "    emails = folder.Items\n",
    "\n",
    "    email_data = []\n",
    "\n",
    "    for email in emails:\n",
    "        try:\n",
    "            if not hasattr(email, 'ReceivedTime'):\n",
    "                continue\n",
    "\n",
    "            received_datetime = email.ReceivedTime\n",
    "            received_date = received_datetime.date()\n",
    "            received_time = received_datetime.strftime(\"%H:%M:%S\")\n",
    "\n",
    "            # Filter emails by the hardcoded date range\n",
    "            if start_date <= received_date <= end_date:\n",
    "                def extract_addresses(recipients):\n",
    "                    if recipients:\n",
    "                        if isinstance(recipients, str):\n",
    "                            return recipients  # If it's a single string address\n",
    "                        else:\n",
    "                            return '; '.join(\n",
    "                                recipient.Address for recipient in recipients if hasattr(recipient, 'Address'))\n",
    "                    return ''\n",
    "\n",
    "                to = extract_addresses(getattr(email, 'To', None))\n",
    "                cc = extract_addresses(getattr(email, 'CC', None))\n",
    "                bcc = extract_addresses(getattr(email, 'BCC', None))\n",
    "                sent = email.SentOn.strftime('%Y-%m-%d %H:%M:%S') if hasattr(email, 'SentOn') and email.SentOn else None\n",
    "                from_address = email.Sender.Address if hasattr(email, 'Sender') and email.Sender else None\n",
    "\n",
    "                email_dict = {\n",
    "                    \"Folder\": folder_name,\n",
    "                    \"Subject\": email.Subject,\n",
    "                    \"Sender\": email.SenderName,\n",
    "                    \"Received Date\": received_date.isoformat(),\n",
    "                    \"Received Time\": received_time,\n",
    "                    \"Sent\": sent,\n",
    "                    \"From\": from_address,\n",
    "                    \"To\": to,\n",
    "                    \"CC\": cc,\n",
    "                    \"BCC\": bcc,\n",
    "                    \"Body\": email.Body,\n",
    "                    \"EntryID\": email.EntryID,\n",
    "                }\n",
    "                email_data.append(email_dict)\n",
    "\n",
    "                # Update progress\n",
    "                if progress:\n",
    "                    progress.value += 1\n",
    "\n",
    "                print(f\"Processed email with subject: {email.Subject}\")\n",
    "\n",
    "        except Exception as e:\n",
    "            print(f\"Error processing an email from {folder_name}: {e}\")\n",
    "            continue\n",
    "\n",
    "    print(f\"Finished fetching {len(email_data)} emails from {folder_name}\")\n",
    "    return email_data\n"
   ]
  },
  {
   "cell_type": "markdown",
   "id": "ec40d67bcc8c7b6b",
   "metadata": {},
   "source": [
    "### Define Schema for Structured Output and Classification Chain"
   ]
  },
  {
   "cell_type": "code",
   "execution_count": null,
   "id": "97ab8dcb7025a661",
   "metadata": {
    "ExecuteTime": {
     "end_time": "2024-10-01T12:27:06.331666Z",
     "start_time": "2024-10-01T12:27:06.318359Z"
    }
   },
   "outputs": [],
   "source": [
    "import uuid\n",
    "import re\n",
    "from langchain_core.documents import Document\n",
    "\n",
    "# Get outlook folder by EntryID\n",
    "def get_folder_by_id(entra_id):\n",
    "    return outlook.GetFolderFromID(entra_id)\n",
    "\n",
    "# Get folder name by ID\n",
    "def get_folder_name(folder_id):\n",
    "    folder_names = {\n",
    "        6: \"Inbox\",\n",
    "        5: \"Sent Items\",\n",
    "        3: \"Deleted Items\"\n",
    "    }\n",
    "    return folder_names.get(folder_id, \"Unknown Folder\")\n",
    "\n",
    "# Get folder ID for category\n",
    "def map_category_to_folder(category):\n",
    "    return config.FOLDER_CATEGORIES_DICT.get(category, None)\n",
    "\n",
    "# Move email to folder based on category\n",
    "def move_email_to_folder(metadata):\n",
    "    try:\n",
    "        # Get folder ID by category\n",
    "        folder_id = map_category_to_folder(metadata['Category'])\n",
    "\n",
    "        if folder_id is None:\n",
    "            print(f\"Error moving email to folder: No folder found for category: {metadata['Category']}\")\n",
    "            return\n",
    "\n",
    "        # Get the destination folder\n",
    "        dest_folder = get_folder_by_id(folder_id)\n",
    "\n",
    "        if dest_folder is None:\n",
    "            print(f\"Error moving email to folder: No folder found for ID: {folder_id}\")\n",
    "            return\n",
    "\n",
    "        # Get the email by EntryID\n",
    "        entry_id = metadata[\"EntryID\"]\n",
    "        email = outlook.GetItemFromID(entry_id)\n",
    "\n",
    "        print(f\"***Moving email with subject***: {metadata['Subject']} to folder: {dest_folder.Name}\\n\")\n",
    "\n",
    "        if config.MOVE_EMAILS:\n",
    "            email.Move(dest_folder)\n",
    "\n",
    "    except Exception as e:\n",
    "        print(f\"Error moving email to folder: {e}\")\n",
    "\n",
    "# Generate embedding for email body\n",
    "def generate_embedding(document):\n",
    "    page_content = document.page_content  # Use the full email body for embedding\n",
    "\n",
    "    try:\n",
    "        # Generate embedding using LangChain's OllamaEmbeddings\n",
    "        embedding = embeddings.embed_query(page_content)\n",
    "        print(f\"Generated embedding for email with subject: {document.metadata['Subject']}\\n\")\n",
    "        return Document(id=uuid.uuid1().hex, embedding=embedding, page_content=page_content, metadata=document.metadata)\n",
    "    except Exception as e:\n",
    "        print(f\"Error generating embedding: {str(e)}\")\n",
    "        return None\n",
    "\n",
    "# Remove URLs from email body\n",
    "def remove_urls(email_body):\n",
    "    url_pattern = re.compile(r'https?://\\S+|www\\.\\S+')\n",
    "    return url_pattern.sub(r'', email_body)\n",
    "\n",
    "# Generate summaries, classify emails, and move to appropriate folders\n",
    "def combine_email_texts_and_metadata(email_data):\n",
    "    combined_documents = []\n",
    "    for i, email in enumerate(email_data):\n",
    "        try:\n",
    "            print(f\"Processing email with subject: {email['Subject']} - {email['Received Date']} - {email['EntryID']}\\n\")\n",
    "            metadata = {k: str(v) for k, v in email.items() if k != \"Body\"}\n",
    "            email_body = email[\"Body\"]\n",
    "\n",
    "            # Remove URLs from email body\n",
    "            email_body = remove_urls(email_body)\n",
    "\n",
    "            # Create a document to be summarized\n",
    "            curr_doc = Document(page_content=email_body, metadata=metadata)\n",
    "\n",
    "            # Classify the document\n",
    "            email_classification = classification_chain.invoke(curr_doc.page_content)\n",
    "            print(f\"Classified email with subject: {email['Subject']} into category: {email_classification.category}\")\n",
    "\n",
    "            if email_classification is None:\n",
    "                print(f\"Email with subject: {email['Subject']} was classified as 'None'. Skipping...\\n\")\n",
    "                continue\n",
    "\n",
    "            # Add the classifications to metadata\n",
    "            metadata['Category'] = email_classification.category\n",
    "            metadata['ClassifySubject'] = email_classification.subject\n",
    "            metadata['ActionItem'] = email_classification.action_item\n",
    "\n",
    "            # Generate summary\n",
    "            summary = summarize_chain.invoke([curr_doc])['output_text']\n",
    "            metadata['Summary'] = summary\n",
    "\n",
    "            # Move the email to the appropriate folder\n",
    "            move_email_to_folder(metadata)\n",
    "\n",
    "            # Store the raw email content and the summary\n",
    "            combined_documents.append(Document(page_content=email_body, metadata=metadata))\n",
    "\n",
    "            print(f\"Generated summary for email with subject: {email['Subject']}\\n\")\n",
    "            print(\"=====================================================\\n\")\n",
    "\n",
    "        except Exception as e:\n",
    "            print(f\"Error summarizing email: {e}\")\n",
    "            continue\n",
    "\n",
    "    return combined_documents\n",
    "\n",
    "# Get emails for the specified folders\n",
    "def get_emails_for_folders(folder_ids):\n",
    "    email_data = []\n",
    "    for folder_id in folder_ids:\n",
    "        folder_emails = get_emails(folder_id)\n",
    "        email_data.extend(folder_emails)\n",
    "\n",
    "    return email_data\n"
   ]
  },
  {
   "cell_type": "markdown",
   "id": "7641aa748f8f195b",
   "metadata": {},
   "source": [
    "### Get emails for configured folders"
   ]
  },
  {
   "cell_type": "code",
   "execution_count": null,
   "id": "8c289593de2caa7d",
   "metadata": {
    "ExecuteTime": {
     "end_time": "2024-10-01T12:27:08.899416Z",
     "start_time": "2024-10-01T12:27:06.343829Z"
    }
   },
   "outputs": [],
   "source": [
    "# Retrieve emails from folders\n",
    "print(\"Starting email processing...\")\n",
    "current_emails = get_emails_for_folders(config.EMAIL_RETRIEVAL_FOLDERS)\n",
    "total_emails = len(current_emails)\n",
    "\n",
    "if total_emails == 0:\n",
    "    print(\"No emails fetched.\")\n",
    "    exit()\n",
    "\n",
    "print(f\"Total Emails Fetched: {total_emails}\")"
   ]
  },
  {
   "cell_type": "markdown",
   "id": "6be41c920c51342c",
   "metadata": {},
   "source": [
    "### Refresh collections"
   ]
  },
  {
   "cell_type": "code",
   "execution_count": null,
   "id": "41365799acbb25b7",
   "metadata": {
    "ExecuteTime": {
     "end_time": "2024-10-01T12:27:11.591939Z",
     "start_time": "2024-10-01T12:27:08.913455Z"
    }
   },
   "outputs": [],
   "source": [
    "from langchain_chroma import Chroma\n",
    "\n",
    "# delete and create a new collection\n",
    "print(\"Refreshing collections...\")\n",
    "vector_store = Chroma(persist_directory=config.CHROMA_DB_PATH, collection_name=collection_name)\n",
    "vector_store.delete_collection()\n",
    "print(\"Collection deleted\")"
   ]
  },
  {
   "cell_type": "markdown",
   "id": "7cf1bef94b1c2dd7",
   "metadata": {},
   "source": [
    "### Generate Summaries and Classify Emails"
   ]
  },
  {
   "cell_type": "code",
   "execution_count": null,
   "id": "cc837d050feba974",
   "metadata": {
    "jupyter": {
     "is_executing": true
    }
   },
   "outputs": [],
   "source": [
    "# create a new collection\n",
    "print(\"Summarize and classify emails...\")\n",
    "documents = combine_email_texts_and_metadata(current_emails)\n",
    "documents"
   ]
  },
  {
   "cell_type": "markdown",
   "id": "d52ca709d45acfe9",
   "metadata": {},
   "source": [
    "### Generate embeddings"
   ]
  },
  {
   "cell_type": "code",
   "execution_count": null,
   "id": "a41870c175c723c",
   "metadata": {
    "ExecuteTime": {
     "end_time": "2024-09-11T06:14:17.805370Z",
     "start_time": "2024-09-11T06:14:15.585085Z"
    }
   },
   "outputs": [],
   "source": [
    "print(\"Processing embeddings...\")\n",
    "embedding_results = [generate_embedding(document) for document in documents]\n",
    "print(\"Embeddings processed\")"
   ]
  },
  {
   "cell_type": "markdown",
   "id": "d5b649454be0e7ce",
   "metadata": {},
   "source": [
    "### Store Documents in ChromaDB"
   ]
  },
  {
   "cell_type": "code",
   "execution_count": null,
   "id": "1be628bb38f935ed",
   "metadata": {
    "ExecuteTime": {
     "end_time": "2024-09-11T06:14:23.660547Z",
     "start_time": "2024-09-11T06:14:21.932828Z"
    }
   },
   "outputs": [],
   "source": [
    "db = vector_store.from_documents(documents=documents,\n",
    "                           embedding=embeddings,\n",
    "                           collection_name=collection_name,\n",
    "                           persist_directory=config.CHROMA_DB_PATH)\n",
    "print(f\"Finished embedding process. There are {len(embedding_results)} documents in the collection: '{collection_name}'\")"
   ]
  },
  {
   "cell_type": "markdown",
   "id": "2fb77867e639d2a7",
   "metadata": {},
   "source": [
    "# Daily Summary Output"
   ]
  },
  {
   "cell_type": "markdown",
   "id": "c5a1a2d29e2bcaed",
   "metadata": {},
   "source": [
    "### Define Prompt Templates and Summarize Chain"
   ]
  },
  {
   "cell_type": "code",
   "execution_count": null,
   "id": "e65bbcbf25afd1b4",
   "metadata": {
    "ExecuteTime": {
     "end_time": "2024-09-11T06:16:33.627918Z",
     "start_time": "2024-09-11T06:16:33.623884Z"
    }
   },
   "outputs": [],
   "source": [
    "from langchain_core.prompts import PromptTemplate\n",
    "\n",
    "# Define prompt templates\n",
    "map_prompt = PromptTemplate.from_template(\n",
    "    \"\"\"\n",
    "    Summarize the key points from the following email. \n",
    "    Do not include any introductory phrases. Start directly with the main points.\n",
    "    \n",
    "    Email content:\n",
    "    {text}\n",
    "    \n",
    "    Key points:\n",
    "    \"\"\")\n",
    "reduce_prompt = PromptTemplate.from_template(\n",
    "    \"\"\"\n",
    "    Combine the following email summaries into a concise overall summary. \n",
    "    Do not add any introductory phrases like 'Here is a summary' or 'In conclusion'. \n",
    "    Start directly with the key points, maintaining a bullet point format.\n",
    "    \n",
    "    Individual summaries:\n",
    "    {text}\n",
    "    \n",
    "    Combined summary:\n",
    "    \"\"\")\n",
    "\n",
    "# Load the summarize chain\n",
    "summarize_chain = load_summarize_chain(llm,\n",
    "                                        chain_type=\"map_reduce\",\n",
    "                                        map_prompt=map_prompt,\n",
    "                                        combine_prompt=reduce_prompt)"
   ]
  },
  {
   "cell_type": "markdown",
   "id": "be1bfe5144f758c2",
   "metadata": {},
   "source": [
    "### Functions for Summarizing by Category"
   ]
  },
  {
   "cell_type": "code",
   "execution_count": null,
   "id": "febe40e007af0ed4",
   "metadata": {
    "ExecuteTime": {
     "end_time": "2024-09-11T06:18:17.105291Z",
     "start_time": "2024-09-11T06:18:17.100031Z"
    }
   },
   "outputs": [],
   "source": [
    "def summarize_category(doc_category):\n",
    "    summary_string = \"\"\n",
    "\n",
    "    # Retrieve all documents from the vector store\n",
    "    category_docs = vector_store.similarity_search(\"\", k=100, filter={\"Category\" : doc_category})\n",
    "\n",
    "    if not category_docs:\n",
    "        return \"No emails for this category.\"\n",
    "\n",
    "    # Retrieve all documents from the vector store\n",
    "    doc_summary = summarize_chain.invoke({\"input_documents\": category_docs})\n",
    "    print(\"Response: \", doc_summary)\n",
    "    print(\"Summary: \", doc_summary[\"output_text\"])\n",
    "\n",
    "    # Track already summarized documents\n",
    "    doc_ids = []\n",
    "\n",
    "    # Add the summaries of the individual documents\n",
    "    for doc in category_docs:\n",
    "        doc_metadata = doc.metadata\n",
    "        print(\"Doc Metadata: \", doc_metadata)\n",
    "        entry_id = doc_metadata[\"EntryID\"]\n",
    "\n",
    "        if entry_id in doc_ids:\n",
    "            continue\n",
    "\n",
    "        doc_ids.append(entry_id)\n",
    "        summary_string += f\"* **{doc_metadata['Subject']}** - {doc_metadata['Summary']}\"\n",
    "        if doc_metadata[\"ActionItem\"] != \"None\":\n",
    "            summary_string += f\" - **Action Item:** {doc_metadata['ActionItem']}\\n\"\n",
    "\n",
    "    # Add the combined summary\n",
    "    combined_summary = doc_summary[\"output_text\"].replace(\"•\", \"*\")\n",
    "    summary_string += f\"### {doc_category} Summary\\n{combined_summary}\\n\\n\"\n",
    "    return summary_string\n"
   ]
  },
  {
   "cell_type": "markdown",
   "id": "43b3237f4a50952d",
   "metadata": {},
   "source": [
    "### Generate Summaries by Category"
   ]
  },
  {
   "cell_type": "code",
   "execution_count": null,
   "id": "cdd0e6a03a5ac802",
   "metadata": {
    "ExecuteTime": {
     "end_time": "2024-09-11T06:27:12.717063Z",
     "start_time": "2024-09-11T06:25:39.732337Z"
    }
   },
   "outputs": [],
   "source": [
    "vector_store = Chroma(\n",
    "    collection_name=collection_name,\n",
    "    embedding_function=embeddings,\n",
    "    persist_directory=config.CHROMA_DB_PATH\n",
    ")\n",
    "\n",
    "# Retrieve all documents from the vector store\n",
    "full_summary = \"\"\n",
    "for category in config.FOLDER_CATEGORIES:\n",
    "    category_summary = summarize_category(category)\n",
    "    full_summary += f\"# {category}\\n{category_summary}\\n\\n\"\n",
    "    \n",
    "full_summary"
   ]
  },
  {
   "cell_type": "markdown",
   "id": "1d4164611f59d07a",
   "metadata": {},
   "source": [
    "### Write to Markdown File"
   ]
  },
  {
   "cell_type": "code",
   "execution_count": null,
   "id": "42ce5b0cdbb128f0",
   "metadata": {
    "ExecuteTime": {
     "end_time": "2024-09-11T06:33:25.311376Z",
     "start_time": "2024-09-11T06:33:25.305876Z"
    }
   },
   "outputs": [],
   "source": [
    "now = datetime.now()\n",
    "date_string = now.strftime(\"%m_%d_%Y\")\n",
    "file_name = f\"{date_string}.md\"\n",
    "\n",
    "with open(file_name, \"w\", encoding=\"utf-8\") as f:\n",
    "    f.write(full_summary)"
   ]
  }
 ],
 "metadata": {
  "kernelspec": {
   "display_name": "Python 3 (ipykernel)",
   "language": "python",
   "name": "python3"
  },
  "language_info": {
   "codemirror_mode": {
    "name": "ipython",
    "version": 3
   },
   "file_extension": ".py",
   "mimetype": "text/x-python",
   "name": "python",
   "nbconvert_exporter": "python",
   "pygments_lexer": "ipython3",
   "version": "3.12.3"
  }
 },
 "nbformat": 4,
 "nbformat_minor": 5
}
