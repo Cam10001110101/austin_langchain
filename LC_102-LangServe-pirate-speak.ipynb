{
  "nbformat": 4,
  "nbformat_minor": 0,
  "metadata": {
    "colab": {
      "provenance": [],
      "authorship_tag": "ABX9TyMsl7/AQOOz3VetobHC99hu",
      "include_colab_link": true
    },
    "kernelspec": {
      "name": "python3",
      "display_name": "Python 3"
    },
    "language_info": {
      "name": "python"
    }
  },
  "cells": [
    {
      "cell_type": "markdown",
      "metadata": {
        "id": "view-in-github",
        "colab_type": "text"
      },
      "source": [
        "<a href=\"https://colab.research.google.com/github/colinmcnamara/austin_langchain/blob/main/LC_102-LangServe-pirate-speak.ipynb\" target=\"_parent\"><img src=\"https://colab.research.google.com/assets/colab-badge.svg\" alt=\"Open In Colab\"/></a>"
      ]
    },
    {
      "cell_type": "markdown",
      "source": [
        "## Install packages\n",
        "* langchain-cli\n",
        "* Additional dependencies (added manually due to dependency manager issue)\n"
      ],
      "metadata": {
        "id": "wD-7YvxljIsF"
      }
    },
    {
      "cell_type": "code",
      "source": [
        "%pip install -q langchain-cli kaleido python-multipart tensorflow-probability"
      ],
      "metadata": {
        "id": "GpnxWVeSivEF"
      },
      "execution_count": 1,
      "outputs": []
    },
    {
      "cell_type": "markdown",
      "source": [
        "# Set environment variables from Google Colab Secrets\n",
        "* Enable notebook access for each key you want to use\n",
        "* Highlight each line \"CMD+SHIFT+/\" to comment/uncomment # a line\n",
        "\n",
        "\n",
        "---\n",
        "\n"
      ],
      "metadata": {
        "id": "KgLZOGb_hKbF"
      }
    },
    {
      "cell_type": "markdown",
      "source": [
        "# Exporting variables from Colab key manager into the notebook AND shell\n",
        "* This takes the keys from your colab instance, maps them into your notebook AND creates a shell script you can execute from your terminal to set all of your keys\n"
      ],
      "metadata": {
        "id": "zF2aOAP0rlry"
      }
    },
    {
      "cell_type": "code",
      "source": [
        "import os\n",
        "from google.colab import userdata\n",
        "\n",
        "# List of your secret names, one per line for easy commenting\n",
        "secret_names = [\n",
        "    'OPENAI_API_KEY',\n",
        "    # 'SERPAPI_API_KEY',\n",
        "    # 'PINECONE_API_KEY',\n",
        "    # 'PINECONE_ENV',\n",
        "    # 'GOOGLE_CSE_ID',\n",
        "    # 'HUGGINGFACEHUB_API_TOKEN',\n",
        "    # 'COHERE_API_KEY',\n",
        "    # 'GOOGLE_API_KEY',\n",
        "    'LANGCHAIN_TRACING_V2', # Uncomment when needed\n",
        "    'LANGCHAIN_ENDPOINT', # Uncomment when needed\n",
        "    'LANGCHAIN_API_KEY' # Uncomment when needed\n",
        "]\n",
        "\n",
        "# Start the shell script with the shebang line\n",
        "shell_script = \"#!/bin/sh\\n\"\n",
        "\n",
        "# Loop through each secret name and set the corresponding environment variable\n",
        "for secret_name in secret_names:\n",
        "    # Retrieve the secret value from Colab's secret manager\n",
        "    secret_value = userdata.get(secret_name)\n",
        "\n",
        "    # Check if the secret value was successfully retrieved\n",
        "    if secret_value is not None:\n",
        "        # Set the secret as an environment variable in Python\n",
        "        os.environ[secret_name] = secret_value\n",
        "        print(f\"Environment variable '{secret_name}' set in Python environment.\")\n",
        "\n",
        "        # Add the secret to the shell script for the terminal environment\n",
        "        shell_script += f\"export {secret_name}='{secret_value}'\\n\"\n",
        "        shell_script += f'echo \"Environment variable \\'{secret_name}\\' set in terminal environment.\"\\n'\n",
        "    else:\n",
        "        print(f\"Secret '{secret_name}' not found. Please check the key name and try again.\")\n",
        "\n",
        "# Uncomment the lines below to enable keys in your shell\n",
        "# to a shell file to use langchain-cli or langserve\n",
        "# be sure to delete your instance after so you don't leave keys lying around\n",
        "#\n",
        "# Write the shell script to a file\n",
        "with open('set_env_vars.sh', 'w') as file:\n",
        "    file.write(shell_script)\n",
        "\n",
        "# Make the script executable\n",
        "!chmod +x set_env_vars.sh\n",
        "\n",
        "print(\"Shell script 'set_env_vars.sh' created and made executable. You can source it in your terminal with 'source set_env_vars.sh'. It will display which variables have been set.\")\n"
      ],
      "metadata": {
        "colab": {
          "base_uri": "https://localhost:8080/"
        },
        "id": "3chmJTYCs2C2",
        "outputId": "a04f22e3-12d2-4be6-faa0-2d40ea0d0ccc"
      },
      "execution_count": 2,
      "outputs": [
        {
          "output_type": "stream",
          "name": "stdout",
          "text": [
            "Environment variable 'OPENAI_API_KEY' set in Python environment.\n",
            "Environment variable 'LANGCHAIN_TRACING_V2' set in Python environment.\n",
            "Environment variable 'LANGCHAIN_ENDPOINT' set in Python environment.\n",
            "Environment variable 'LANGCHAIN_API_KEY' set in Python environment.\n",
            "Shell script 'set_env_vars.sh' created and made executable. You can source it in your terminal with 'source set_env_vars.sh'. It will display which variables have been set.\n"
          ]
        }
      ]
    },
    {
      "cell_type": "markdown",
      "source": [
        "# Verify your OPENAI_API_KEY variable is set\n",
        "* Scroll down to verify your OPENAI_API_KEY is set\n"
      ],
      "metadata": {
        "id": "mdWDICn3qJeJ"
      }
    },
    {
      "cell_type": "code",
      "source": [
        "import os\n",
        "\n",
        "if 'OPENAI_API_KEY' in os.environ:\n",
        "    print(\"OPENAI_API_KEY is set, but we're not displaying the value\")\n",
        "else:\n",
        "    print(\"OPENAI_API_KEY is unset or set to the empty string\")\n"
      ],
      "metadata": {
        "colab": {
          "base_uri": "https://localhost:8080/"
        },
        "id": "0Ccm5Ok4pv8J",
        "outputId": "f7d937e9-ec4b-4165-b9e1-b8a029a54d18"
      },
      "execution_count": 3,
      "outputs": [
        {
          "output_type": "stream",
          "name": "stdout",
          "text": [
            "OPENAI_API_KEY is set, but we're not displaying the value\n"
          ]
        }
      ]
    },
    {
      "cell_type": "markdown",
      "source": [
        "## Open your terminal\n",
        "* Click icon  [>_] on the lower left\n",
        "* Terminal should appear on your right\n",
        "* Type the following, then hit enter\n",
        "```\n",
        "source set_env_vars.sh\n",
        "```"
      ],
      "metadata": {
        "id": "HlJ7lxvRpIQc"
      }
    },
    {
      "cell_type": "markdown",
      "source": [
        "## In your terminal -->\n",
        "## source set_env_vars.sh\n",
        "```\n",
        "source set_env_vars.sh\n",
        "```\n",
        "* you should see notes saying the variables you specified are set:\n",
        "\n",
        "* example output:\n",
        "```\n",
        "Environment variable 'OPENAI_API_KEY' set in terminal environment.\n",
        "```"
      ],
      "metadata": {
        "id": "efiQggmvw8tj"
      }
    },
    {
      "cell_type": "markdown",
      "source": [
        "# validate the following commands are available in the terminal\n",
        "* type **lang** and hit tab twice to see what commands start with **lang**\n",
        "```\n",
        "lang\n",
        "```\n",
        "expected output\n",
        "```\n",
        "/content/my-app# lang\n",
        "langchain         langchain-cli     langchain-server  langsmith\n",
        "```"
      ],
      "metadata": {
        "id": "lB7fdwMp09Ud"
      }
    },
    {
      "cell_type": "markdown",
      "source": [
        "# Create a new LangChain project\n",
        "Create a new app named my app\n",
        "```\n",
        "langchain app new my-app\n",
        "```\n",
        "list the files inside of the folder my-app\n",
        "```\n",
        "ls my-app\n",
        "```\n",
        "\n",
        "* view that the following directores are created\n",
        "  * app - LangServe code\n",
        "  * packages - Chains and Agents\n",
        "\n",
        "\n"
      ],
      "metadata": {
        "id": "LifgzFEE134m"
      }
    },
    {
      "cell_type": "markdown",
      "source": [
        "Expected output:\n",
        "```\n",
        "/content/my-app# ls\n",
        "app  logs  packages  pyproject.toml  README.md\n",
        "```"
      ],
      "metadata": {
        "id": "ZFd0hmSZDChW"
      }
    },
    {
      "cell_type": "markdown",
      "source": [
        "#install packages for pirate-speak"
      ],
      "metadata": {
        "id": "csereQhZ3p4L"
      }
    },
    {
      "cell_type": "code",
      "source": [
        "%pip install -q cohere tiktoken"
      ],
      "metadata": {
        "id": "hOP_bbBn3paa"
      },
      "execution_count": 4,
      "outputs": []
    },
    {
      "cell_type": "markdown",
      "source": [
        "# Add templates into your project\n",
        " Change directory into **my-app**\n",
        "```\n",
        "cd my-app\n",
        "```\n",
        "add the pirate-speak template to your app\n",
        "```\n",
        "langchain app add pirate-speak\n",
        "```\n",
        "Answer '**y** to the run it question, and hit enter\n",
        "```\n",
        "\"Run it? [y/N]:\"\n",
        "```\n",
        "you should see a lot of output as it installs. If you see any pip errors, adjust the packages list above to resolve the issues\n",
        "```\n",
        "Successfully installed openai-0.28.1 pirate-speak-0.0.1\n",
        "```"
      ],
      "metadata": {
        "id": "zEcCa6iD2wAe"
      }
    },
    {
      "cell_type": "markdown",
      "source": [
        "# Generate Route code\n",
        "* Generate route code for these packages? [Y/n]: (answer y)\n",
        "\n",
        "It will generate the following code that we need to add to server.py\n",
        "\n",
        "Great! Add the following to your app: in content/my-app/app/server.py by\n",
        "* navigating to file manager on your left hand side (under the key)\n",
        "* Click on **my-app** / **app** / to expand the directories\n",
        "* Double-Click on **server.py**\n",
        "* A new tab should open next to your terminal on the right. This is that file\n",
        "\n",
        "import your pirate_speak_chain by addeding a from statement\n",
        "```\n",
        "from pirate_speak.chain import chain as pirate_speak_chain\n",
        "```\n",
        "\n",
        "Replace this -\n",
        "```\n",
        "add_routes(app, NotImplemented)\n",
        "```\n",
        "with your new chain routes connecting your app, the pirate speak chain, and specifying the path to the folder (this is important since we can edit this late)\n",
        "```\n",
        "add_routes(app, pirate_speak_chain, path=\"/pirate-speak\")\n",
        "```\n",
        "* hit **ctrl+s** to save (or click on file>save)\n",
        "\n",
        "Your new server.py file should look like this\n",
        "```\n",
        "from fastapi import FastAPI\n",
        "from langserve import add_routes\n",
        "from pirate_speak.chain import chain as pirate_speak_chain\n",
        "\n",
        "app = FastAPI()\n",
        "\n",
        "# Edit this to add the chain you want to add\n",
        "add_routes(app, pirate_speak_chain, path=\"/pirate-speak\")\n",
        "\n",
        "if __name__ == \"__main__\":\n",
        "    import uvicorn\n",
        "\n",
        "    uvicorn.run(app, host=\"0.0.0.0\", port=8000)\n",
        "```"
      ],
      "metadata": {
        "id": "FRKGq8ia30Wp"
      }
    },
    {
      "cell_type": "markdown",
      "source": [
        "# Start langchain server!!!\n",
        "Type the command below. This will start up LangServe, and load the app as a web service using FASTAPI\n",
        "```\n",
        "langchain serve\n",
        "```\n",
        "You should see something like this:\n",
        "```\n",
        "/content/my-app# langchain serve\n",
        "INFO:     Will watch for changes in these directories: ['/content/my-app']\n",
        "INFO:     Uvicorn running on http://127.0.0.1:8000 (Press CTRL+C to quit)\n",
        "INFO:     Started reloader process [8879] using StatReload\n",
        "INFO:     Started server process [8888]\n",
        "INFO:     Waiting for application startup.\n",
        "\n",
        " __          ___      .__   __.   _______      _______. _______ .______     ____    ____  _______\n",
        "|  |        /   \\     |  \\ |  |  /  _____|    /       ||   ____||   _  \\    \\   \\  /   / |   ____|\n",
        "|  |       /  ^  \\    |   \\|  | |  |  __     |   (----`|  |__   |  |_)  |    \\   \\/   /  |  |__   \n",
        "|  |      /  /_\\  \\   |  . `  | |  | |_ |     \\   \\    |   __|  |      /      \\      /   |   __|  \n",
        "|  `----./  _____  \\  |  |\\   | |  |__| | .----)   |   |  |____ |  |\\  \\----.  \\    /    |  |____\n",
        "|_______/__/     \\__\\ |__| \\__|  \\______| |_______/    |_______|| _| `._____|   \\__/     |_______|\n",
        "\n",
        "LANGSERVE: Playground for chain \"/pirate-speak\" is live at:\n",
        "LANGSERVE:  │\n",
        "LANGSERVE:  └──> /pirate-speak/playground\n",
        "LANGSERVE:\n",
        "LANGSERVE: See all available routes at /docs\n",
        "\n",
        "INFO:     Application startup complete.\n",
        "```"
      ],
      "metadata": {
        "id": "fo1DWjs48ntL"
      }
    },
    {
      "cell_type": "markdown",
      "source": [
        "# Getting to the interface through Google Colab\n",
        "Since we are in a hosted google envoironment, we are going to have to do a couple tricks to access the API / Playground\n",
        "\n",
        "* We are going to have to tunnel our way out using npx\n"
      ],
      "metadata": {
        "id": "oFogw4ce8xMJ"
      }
    },
    {
      "cell_type": "markdown",
      "metadata": {
        "id": "ifux-mmzcTQK"
      },
      "source": [
        "## Find the IP of your instance"
      ]
    },
    {
      "cell_type": "code",
      "execution_count": 7,
      "metadata": {
        "colab": {
          "base_uri": "https://localhost:8080/"
        },
        "id": "nQz0WaTTcTQK",
        "outputId": "2695f5e3-e4b6-43f7-bde5-8f21163b800c"
      },
      "outputs": [
        {
          "output_type": "stream",
          "name": "stdout",
          "text": [
            "34.106.243.223\n",
            "Copy this IP into the webpage that opens below\n"
          ]
        }
      ],
      "source": [
        "!curl ipv4.icanhazip.com\n",
        "!echo \"Copy this IP into the webpage that opens below\""
      ]
    },
    {
      "cell_type": "markdown",
      "metadata": {
        "id": "1XkNhk9abV29"
      },
      "source": [
        "## Expose the Streamlit app on port 8501"
      ]
    },
    {
      "cell_type": "code",
      "execution_count": null,
      "metadata": {
        "colab": {
          "base_uri": "https://localhost:8080/"
        },
        "id": "_DDegT-jZ2Q5",
        "outputId": "0b33ed97-5bbe-4e51-9b77-e50a26a21990"
      },
      "outputs": [
        {
          "output_type": "stream",
          "name": "stdout",
          "text": [
            "\u001b[K\u001b[?25hnpx: installed 22 in 4.464s\n",
            "your url is: https://khaki-coins-type.loca.lt\n"
          ]
        }
      ],
      "source": [
        "!npx localtunnel --port 8000"
      ]
    },
    {
      "cell_type": "markdown",
      "source": [
        "#Authenticate through you the web interface\n",
        "* Paste your ip in\n",
        "* Hit enter\n",
        "\n",
        "#Add your app uri\n",
        "* https://your_url/pirate-speak/playground"
      ],
      "metadata": {
        "id": "trzj4bdH-PQg"
      }
    },
    {
      "cell_type": "markdown",
      "source": [
        "Now play with the web interface, interact, as it some questions\n"
      ],
      "metadata": {
        "id": "Xtag_zPZDrPX"
      }
    },
    {
      "cell_type": "markdown",
      "source": [
        "# Modify your applications code\n",
        "* In the folder interface on your left click on\n",
        "  * my-app\n",
        "    * packages\n",
        "      * pirate-speak\n",
        "        * chain.py\n"
      ],
      "metadata": {
        "id": "8asZZgvUDwz8"
      }
    },
    {
      "cell_type": "markdown",
      "source": [
        "You should notice the chain.py file open up next to your terminal tab\n",
        "* Click it to edit the file and change pirate speak to elite haX0r speak\n",
        "```\n",
        "from langchain.chat_models import ChatOpenAI\n",
        "from langchain.prompts import ChatPromptTemplate\n",
        "```\n",
        "```\n",
        "_prompt = ChatPromptTemplate.from_messages(\n",
        "    [\n",
        "        (\n",
        "            \"system\",\n",
        "#           \"translate user input into pirate speak\", # old line\n",
        "            \"Translate user input into elite haX0r speak\", # new line\n",
        "        ),\n",
        "        (\"human\", \"{text}\"),\n",
        "    ]\n",
        ")\n",
        "_model = ChatOpenAI()\n",
        "```\n",
        "```\n",
        "# if you update this, you MUST also update ../pyproject.toml\n",
        "# with the new `tool.langserve.export_attr`\n",
        "chain = _prompt | _model\n",
        "```"
      ],
      "metadata": {
        "id": "sOLpNlRdEDxk"
      }
    },
    {
      "cell_type": "markdown",
      "source": [
        "# Press save, and click over to the terminal\n",
        "* Notice that LangServe picked up the change hwen you saved your file\n",
        "\n",
        "```\n",
        "WARNING:  StatReload detected changes in 'packages/pirate-speak/pirate_speak/chain.py'. Reloading...\n",
        "/content/my-app# INFO:     Shutting down\n",
        "INFO:     Waiting for application shutdown.\n",
        "INFO:     Application shutdown complete.\n",
        "INFO:     Finished server process [17853]\n",
        "INFO:     Started server process [17869]\n",
        "INFO:     Waiting for application startup.\n",
        "\n",
        " __          ___      .__   __.   _______      _______. _______ .______     ____    ____  _______\n",
        "|  |        /   \\     |  \\ |  |  /  _____|    /       ||   ____||   _  \\    \\   \\  /   / |   ____|\n",
        "|  |       /  ^  \\    |   \\|  | |  |  __     |   (----`|  |__   |  |_)  |    \\   \\/   /  |  |__   \n",
        "|  |      /  /_\\  \\   |  . `  | |  | |_ |     \\   \\    |   __|  |      /      \\      /   |   __|  \n",
        "|  `----./  _____  \\  |  |\\   | |  |__| | .----)   |   |  |____ |  |\\  \\----.  \\    /    |  |____\n",
        "|_______/__/     \\__\\ |__| \\__|  \\______| |_______/    |_______|| _| `._____|   \\__/     |_______|\n",
        "\n",
        "LANGSERVE: Playground for chain \"/pirate-speak\" is live at:\n",
        "LANGSERVE:  │\n",
        "LANGSERVE:  └──> /pirate-speak/playground\n",
        "LANGSERVE:\n",
        "LANGSERVE: See all available routes at /docs\n",
        "\n",
        "INFO:     Application startup complete.\n",
        "```"
      ],
      "metadata": {
        "id": "HjJoVgnOEsN6"
      }
    },
    {
      "cell_type": "markdown",
      "source": [
        "# go back to your playground, and interact with this new application"
      ],
      "metadata": {
        "id": "TzyNAxKuE5Of"
      }
    }
  ]
}